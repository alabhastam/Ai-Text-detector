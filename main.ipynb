{
 "cells": [
  {
   "cell_type": "markdown",
   "id": "f44a5e19",
   "metadata": {
    "papermill": {
     "duration": 0.003684,
     "end_time": "2025-08-07T14:22:20.182095",
     "exception": false,
     "start_time": "2025-08-07T14:22:20.178411",
     "status": "completed"
    },
    "tags": []
   },
   "source": [
    "# Load and glance "
   ]
  },
  {
   "cell_type": "code",
   "execution_count": 1,
   "id": "02b564b7",
   "metadata": {
    "execution": {
     "iopub.execute_input": "2025-08-07T14:22:20.190136Z",
     "iopub.status.busy": "2025-08-07T14:22:20.189653Z",
     "iopub.status.idle": "2025-08-07T14:22:24.744639Z",
     "shell.execute_reply": "2025-08-07T14:22:24.743821Z"
    },
    "papermill": {
     "duration": 4.560869,
     "end_time": "2025-08-07T14:22:24.746424",
     "exception": false,
     "start_time": "2025-08-07T14:22:20.185555",
     "status": "completed"
    },
    "tags": []
   },
   "outputs": [],
   "source": [
    "import pandas as pd\n",
    "import numpy as np\n",
    "import matplotlib.pyplot as plt\n",
    "import seaborn as sns\n",
    "\n",
    "df = pd.read_csv('/kaggle/input/ai-generated-essays-dataset/AI Generated Essays Dataset.csv')"
   ]
  },
  {
   "cell_type": "code",
   "execution_count": 2,
   "id": "49155fee",
   "metadata": {
    "execution": {
     "iopub.execute_input": "2025-08-07T14:22:24.753916Z",
     "iopub.status.busy": "2025-08-07T14:22:24.753545Z",
     "iopub.status.idle": "2025-08-07T14:22:24.797167Z",
     "shell.execute_reply": "2025-08-07T14:22:24.796205Z"
    },
    "papermill": {
     "duration": 0.049222,
     "end_time": "2025-08-07T14:22:24.798827",
     "exception": false,
     "start_time": "2025-08-07T14:22:24.749605",
     "status": "completed"
    },
    "tags": []
   },
   "outputs": [
    {
     "name": "stdout",
     "output_type": "stream",
     "text": [
      "▶︎ Dataset shape: (1460, 2)\n",
      "Column types & missing counts:\n",
      "            dtype  n_missing\n",
      "text       object          0\n",
      "generated   int64          0\n",
      "            dtype  n_missing\n",
      "text       object          0\n",
      "generated   int64          0\n",
      "▶︎ Sample rows:\n"
     ]
    },
    {
     "data": {
      "text/html": [
       "<div>\n",
       "<style scoped>\n",
       "    .dataframe tbody tr th:only-of-type {\n",
       "        vertical-align: middle;\n",
       "    }\n",
       "\n",
       "    .dataframe tbody tr th {\n",
       "        vertical-align: top;\n",
       "    }\n",
       "\n",
       "    .dataframe thead th {\n",
       "        text-align: right;\n",
       "    }\n",
       "</style>\n",
       "<table border=\"1\" class=\"dataframe\">\n",
       "  <thead>\n",
       "    <tr style=\"text-align: right;\">\n",
       "      <th></th>\n",
       "      <th>text</th>\n",
       "      <th>generated</th>\n",
       "    </tr>\n",
       "  </thead>\n",
       "  <tbody>\n",
       "    <tr>\n",
       "      <th>892</th>\n",
       "      <td>The most basic and persistent form of transpor...</td>\n",
       "      <td>0</td>\n",
       "    </tr>\n",
       "    <tr>\n",
       "      <th>1105</th>\n",
       "      <td>Many people are not in favor of keeping the El...</td>\n",
       "      <td>0</td>\n",
       "    </tr>\n",
       "    <tr>\n",
       "      <th>413</th>\n",
       "      <td>Dear State Senator, The Electoral College is a...</td>\n",
       "      <td>0</td>\n",
       "    </tr>\n",
       "  </tbody>\n",
       "</table>\n",
       "</div>"
      ],
      "text/plain": [
       "                                                   text  generated\n",
       "892   The most basic and persistent form of transpor...          0\n",
       "1105  Many people are not in favor of keeping the El...          0\n",
       "413   Dear State Senator, The Electoral College is a...          0"
      ]
     },
     "metadata": {},
     "output_type": "display_data"
    }
   ],
   "source": [
    "print(f\"▶︎ Dataset shape: {df.shape}\")\n",
    "print(\"Column types & missing counts:\")\n",
    "print(df.dtypes.to_frame(\"dtype\").join(df.isna().sum().to_frame(\"n_missing\")))\n",
    "print(df.dtypes.to_frame(\"dtype\").join(df.isna().sum().to_frame(\"n_missing\")))\n",
    "\n",
    "print(\"▶︎ Sample rows:\")\n",
    "display(df.sample(3, random_state=42))\n",
    "\n"
   ]
  },
  {
   "cell_type": "code",
   "execution_count": 3,
   "id": "05d40183",
   "metadata": {
    "execution": {
     "iopub.execute_input": "2025-08-07T14:22:24.808820Z",
     "iopub.status.busy": "2025-08-07T14:22:24.808428Z",
     "iopub.status.idle": "2025-08-07T14:22:24.834285Z",
     "shell.execute_reply": "2025-08-07T14:22:24.833198Z"
    },
    "papermill": {
     "duration": 0.032963,
     "end_time": "2025-08-07T14:22:24.836043",
     "exception": false,
     "start_time": "2025-08-07T14:22:24.803080",
     "status": "completed"
    },
    "tags": []
   },
   "outputs": [
    {
     "name": "stdout",
     "output_type": "stream",
     "text": [
      "▶︎ Label distribution:\n"
     ]
    },
    {
     "data": {
      "text/html": [
       "<div>\n",
       "<style scoped>\n",
       "    .dataframe tbody tr th:only-of-type {\n",
       "        vertical-align: middle;\n",
       "    }\n",
       "\n",
       "    .dataframe tbody tr th {\n",
       "        vertical-align: top;\n",
       "    }\n",
       "\n",
       "    .dataframe thead th {\n",
       "        text-align: right;\n",
       "    }\n",
       "</style>\n",
       "<table border=\"1\" class=\"dataframe\">\n",
       "  <thead>\n",
       "    <tr style=\"text-align: right;\">\n",
       "      <th></th>\n",
       "      <th>text</th>\n",
       "      <th>count</th>\n",
       "      <th>pct</th>\n",
       "    </tr>\n",
       "  </thead>\n",
       "  <tbody>\n",
       "    <tr>\n",
       "      <th>0</th>\n",
       "      <td>\"The evolution of artificial intelligence (AI)...</td>\n",
       "      <td>2</td>\n",
       "      <td>0.136986</td>\n",
       "    </tr>\n",
       "    <tr>\n",
       "      <th>1</th>\n",
       "      <td>Machine learning, a subset of artificial intel...</td>\n",
       "      <td>1</td>\n",
       "      <td>0.068493</td>\n",
       "    </tr>\n",
       "    <tr>\n",
       "      <th>2</th>\n",
       "      <td>Cars most people use them for transportation. ...</td>\n",
       "      <td>1</td>\n",
       "      <td>0.068493</td>\n",
       "    </tr>\n",
       "    <tr>\n",
       "      <th>3</th>\n",
       "      <td>Limiting car usage has many advantages, from s...</td>\n",
       "      <td>1</td>\n",
       "      <td>0.068493</td>\n",
       "    </tr>\n",
       "    <tr>\n",
       "      <th>4</th>\n",
       "      <td>For many years people have been using cars to ...</td>\n",
       "      <td>1</td>\n",
       "      <td>0.068493</td>\n",
       "    </tr>\n",
       "    <tr>\n",
       "      <th>...</th>\n",
       "      <td>...</td>\n",
       "      <td>...</td>\n",
       "      <td>...</td>\n",
       "    </tr>\n",
       "    <tr>\n",
       "      <th>1454</th>\n",
       "      <td>Imagine the world in the future, completely fu...</td>\n",
       "      <td>1</td>\n",
       "      <td>0.068493</td>\n",
       "    </tr>\n",
       "    <tr>\n",
       "      <th>1455</th>\n",
       "      <td>Dear every state senator of the United States ...</td>\n",
       "      <td>1</td>\n",
       "      <td>0.068493</td>\n",
       "    </tr>\n",
       "    <tr>\n",
       "      <th>1456</th>\n",
       "      <td>Richard Nixon, Jimmy Carter, and Bob Dole are ...</td>\n",
       "      <td>1</td>\n",
       "      <td>0.068493</td>\n",
       "    </tr>\n",
       "    <tr>\n",
       "      <th>1457</th>\n",
       "      <td>When you think about limiting car usage you mi...</td>\n",
       "      <td>1</td>\n",
       "      <td>0.068493</td>\n",
       "    </tr>\n",
       "    <tr>\n",
       "      <th>1458</th>\n",
       "      <td>Cars have been around since the 1800's and hav...</td>\n",
       "      <td>1</td>\n",
       "      <td>0.068493</td>\n",
       "    </tr>\n",
       "  </tbody>\n",
       "</table>\n",
       "<p>1459 rows × 3 columns</p>\n",
       "</div>"
      ],
      "text/plain": [
       "                                                   text  count       pct\n",
       "0     \"The evolution of artificial intelligence (AI)...      2  0.136986\n",
       "1     Machine learning, a subset of artificial intel...      1  0.068493\n",
       "2     Cars most people use them for transportation. ...      1  0.068493\n",
       "3     Limiting car usage has many advantages, from s...      1  0.068493\n",
       "4     For many years people have been using cars to ...      1  0.068493\n",
       "...                                                 ...    ...       ...\n",
       "1454  Imagine the world in the future, completely fu...      1  0.068493\n",
       "1455  Dear every state senator of the United States ...      1  0.068493\n",
       "1456  Richard Nixon, Jimmy Carter, and Bob Dole are ...      1  0.068493\n",
       "1457  When you think about limiting car usage you mi...      1  0.068493\n",
       "1458  Cars have been around since the 1800's and hav...      1  0.068493\n",
       "\n",
       "[1459 rows x 3 columns]"
      ]
     },
     "metadata": {},
     "output_type": "display_data"
    }
   ],
   "source": [
    "label_counts = df[\"text\"].value_counts().rename_axis(\"text\").reset_index(name=\"count\")\n",
    "label_counts[\"pct\"] = 100 * label_counts[\"count\"] / label_counts[\"count\"].sum()\n",
    "print(\"▶︎ Label distribution:\")\n",
    "display(label_counts)"
   ]
  },
  {
   "cell_type": "code",
   "execution_count": 4,
   "id": "3851c102",
   "metadata": {
    "execution": {
     "iopub.execute_input": "2025-08-07T14:22:24.845310Z",
     "iopub.status.busy": "2025-08-07T14:22:24.844989Z",
     "iopub.status.idle": "2025-08-07T14:22:24.851493Z",
     "shell.execute_reply": "2025-08-07T14:22:24.850542Z"
    },
    "papermill": {
     "duration": 0.013067,
     "end_time": "2025-08-07T14:22:24.853006",
     "exception": false,
     "start_time": "2025-08-07T14:22:24.839939",
     "status": "completed"
    },
    "tags": []
   },
   "outputs": [],
   "source": [
    "# ------ SAMPLE DATA FOR SPEED -------- #\n",
    "SAMPLE_SIZE = 3000  # You can lower or raise this\n",
    "df_sample = df.sample(n=min(SAMPLE_SIZE, len(df)), random_state=2024).reset_index(drop=True)"
   ]
  },
  {
   "cell_type": "code",
   "execution_count": 5,
   "id": "9ee755b3",
   "metadata": {
    "execution": {
     "iopub.execute_input": "2025-08-07T14:22:24.861718Z",
     "iopub.status.busy": "2025-08-07T14:22:24.861325Z",
     "iopub.status.idle": "2025-08-07T14:22:24.878896Z",
     "shell.execute_reply": "2025-08-07T14:22:24.878044Z"
    },
    "papermill": {
     "duration": 0.023564,
     "end_time": "2025-08-07T14:22:24.880397",
     "exception": false,
     "start_time": "2025-08-07T14:22:24.856833",
     "status": "completed"
    },
    "tags": []
   },
   "outputs": [
    {
     "name": "stdout",
     "output_type": "stream",
     "text": [
      "▶︎ Label distribution:\n"
     ]
    },
    {
     "data": {
      "text/html": [
       "<div>\n",
       "<style scoped>\n",
       "    .dataframe tbody tr th:only-of-type {\n",
       "        vertical-align: middle;\n",
       "    }\n",
       "\n",
       "    .dataframe tbody tr th {\n",
       "        vertical-align: top;\n",
       "    }\n",
       "\n",
       "    .dataframe thead th {\n",
       "        text-align: right;\n",
       "    }\n",
       "</style>\n",
       "<table border=\"1\" class=\"dataframe\">\n",
       "  <thead>\n",
       "    <tr style=\"text-align: right;\">\n",
       "      <th></th>\n",
       "      <th>text</th>\n",
       "      <th>count</th>\n",
       "      <th>pct</th>\n",
       "    </tr>\n",
       "  </thead>\n",
       "  <tbody>\n",
       "    <tr>\n",
       "      <th>0</th>\n",
       "      <td>\" All of our development since World War 2 has...</td>\n",
       "      <td>1</td>\n",
       "      <td>0.07</td>\n",
       "    </tr>\n",
       "    <tr>\n",
       "      <th>1</th>\n",
       "      <td>\" The Electoral College is a process, not a pl...</td>\n",
       "      <td>1</td>\n",
       "      <td>0.07</td>\n",
       "    </tr>\n",
       "    <tr>\n",
       "      <th>2</th>\n",
       "      <td>\" What's wrong with the Electoral College?\" To...</td>\n",
       "      <td>1</td>\n",
       "      <td>0.07</td>\n",
       "    </tr>\n",
       "    <tr>\n",
       "      <th>3</th>\n",
       "      <td>\"Abolish the electoral college!\" is a famous s...</td>\n",
       "      <td>1</td>\n",
       "      <td>0.07</td>\n",
       "    </tr>\n",
       "    <tr>\n",
       "      <th>4</th>\n",
       "      <td>\"All of our development since World War II has...</td>\n",
       "      <td>1</td>\n",
       "      <td>0.07</td>\n",
       "    </tr>\n",
       "    <tr>\n",
       "      <th>...</th>\n",
       "      <td>...</td>\n",
       "      <td>...</td>\n",
       "      <td>...</td>\n",
       "    </tr>\n",
       "    <tr>\n",
       "      <th>1454</th>\n",
       "      <td>out with the old and in with the new. \"The Ele...</td>\n",
       "      <td>1</td>\n",
       "      <td>0.07</td>\n",
       "    </tr>\n",
       "    <tr>\n",
       "      <th>1455</th>\n",
       "      <td>studies have shown that passenger cars are res...</td>\n",
       "      <td>1</td>\n",
       "      <td>0.07</td>\n",
       "    </tr>\n",
       "    <tr>\n",
       "      <th>1456</th>\n",
       "      <td>there are many thing in life people want and n...</td>\n",
       "      <td>1</td>\n",
       "      <td>0.07</td>\n",
       "    </tr>\n",
       "    <tr>\n",
       "      <th>1457</th>\n",
       "      <td>transportation has been a key part of many soc...</td>\n",
       "      <td>1</td>\n",
       "      <td>0.07</td>\n",
       "    </tr>\n",
       "    <tr>\n",
       "      <th>1458</th>\n",
       "      <td>when looking at the world from a birds eye vie...</td>\n",
       "      <td>1</td>\n",
       "      <td>0.07</td>\n",
       "    </tr>\n",
       "  </tbody>\n",
       "</table>\n",
       "<p>1459 rows × 3 columns</p>\n",
       "</div>"
      ],
      "text/plain": [
       "                                                   text  count   pct\n",
       "0     \" All of our development since World War 2 has...      1  0.07\n",
       "1     \" The Electoral College is a process, not a pl...      1  0.07\n",
       "2     \" What's wrong with the Electoral College?\" To...      1  0.07\n",
       "3     \"Abolish the electoral college!\" is a famous s...      1  0.07\n",
       "4     \"All of our development since World War II has...      1  0.07\n",
       "...                                                 ...    ...   ...\n",
       "1454  out with the old and in with the new. \"The Ele...      1  0.07\n",
       "1455  studies have shown that passenger cars are res...      1  0.07\n",
       "1456  there are many thing in life people want and n...      1  0.07\n",
       "1457  transportation has been a key part of many soc...      1  0.07\n",
       "1458  when looking at the world from a birds eye vie...      1  0.07\n",
       "\n",
       "[1459 rows x 3 columns]"
      ]
     },
     "metadata": {},
     "output_type": "display_data"
    }
   ],
   "source": [
    "# ------ LABEL DISTRIBUTION ON ALL DATA (for accuracy) -------- #\n",
    "label_counts = df[\"text\"].value_counts().sort_index().reset_index()\n",
    "label_counts.columns = [\"text\", \"count\"]\n",
    "label_counts[\"pct\"] = (100 * label_counts[\"count\"] / label_counts[\"count\"].sum()).round(2)\n",
    "print(\"▶︎ Label distribution:\")\n",
    "display(label_counts)"
   ]
  },
  {
   "cell_type": "code",
   "execution_count": 6,
   "id": "9f889bcc",
   "metadata": {
    "execution": {
     "iopub.execute_input": "2025-08-07T14:22:24.889373Z",
     "iopub.status.busy": "2025-08-07T14:22:24.889090Z",
     "iopub.status.idle": "2025-08-07T14:22:24.898774Z",
     "shell.execute_reply": "2025-08-07T14:22:24.897431Z"
    },
    "papermill": {
     "duration": 0.016366,
     "end_time": "2025-08-07T14:22:24.900775",
     "exception": false,
     "start_time": "2025-08-07T14:22:24.884409",
     "status": "completed"
    },
    "tags": []
   },
   "outputs": [
    {
     "name": "stdout",
     "output_type": "stream",
     "text": [
      "generated\n",
      "0    1375\n",
      "1      85\n",
      "Name: count, dtype: int64\n",
      "Human-written:   1375\n",
      "AI-generated:    85\n"
     ]
    }
   ],
   "source": [
    "# Simple count of 0s and 1s in the 'generated' column:\n",
    "print(df['generated'].value_counts())\n",
    "\n",
    "human_count = (df['generated'] == 0).sum()\n",
    "ai_count = (df['generated'] == 1).sum()\n",
    "print(f\"Human-written:   {human_count}\")\n",
    "print(f\"AI-generated:    {ai_count}\")"
   ]
  },
  {
   "cell_type": "code",
   "execution_count": 7,
   "id": "cd07c3b6",
   "metadata": {
    "execution": {
     "iopub.execute_input": "2025-08-07T14:22:24.910318Z",
     "iopub.status.busy": "2025-08-07T14:22:24.910036Z",
     "iopub.status.idle": "2025-08-07T14:22:24.917271Z",
     "shell.execute_reply": "2025-08-07T14:22:24.916053Z"
    },
    "papermill": {
     "duration": 0.013907,
     "end_time": "2025-08-07T14:22:24.919054",
     "exception": false,
     "start_time": "2025-08-07T14:22:24.905147",
     "status": "completed"
    },
    "tags": []
   },
   "outputs": [
    {
     "name": "stdout",
     "output_type": "stream",
     "text": [
      "text         0\n",
      "generated    0\n",
      "dtype: int64\n"
     ]
    }
   ],
   "source": [
    "print(df.isnull().sum())\n"
   ]
  },
  {
   "cell_type": "markdown",
   "id": "0b61b64a",
   "metadata": {
    "papermill": {
     "duration": 0.003753,
     "end_time": "2025-08-07T14:22:24.926866",
     "exception": false,
     "start_time": "2025-08-07T14:22:24.923113",
     "status": "completed"
    },
    "tags": []
   },
   "source": [
    "# Fast world cloud"
   ]
  },
  {
   "cell_type": "code",
   "execution_count": 8,
   "id": "cb8585e3",
   "metadata": {
    "execution": {
     "iopub.execute_input": "2025-08-07T14:22:24.936013Z",
     "iopub.status.busy": "2025-08-07T14:22:24.935473Z",
     "iopub.status.idle": "2025-08-07T14:22:25.363447Z",
     "shell.execute_reply": "2025-08-07T14:22:25.362278Z"
    },
    "papermill": {
     "duration": 0.434572,
     "end_time": "2025-08-07T14:22:25.365331",
     "exception": false,
     "start_time": "2025-08-07T14:22:24.930759",
     "status": "completed"
    },
    "tags": []
   },
   "outputs": [
    {
     "name": "stdout",
     "output_type": "stream",
     "text": [
      "Most common words in Human texts (top 10):\n",
      "   electoral: 562\n",
      "      people: 549\n",
      "        vote: 511\n",
      "     college: 446\n",
      "         car: 391\n",
      "        cars: 323\n",
      "      states: 315\n",
      "   president: 284\n",
      "       votes: 232\n",
      "    electors: 213\n",
      "Most common words in AI texts (top 10):\n",
      "          ai: 69\n",
      "      energy: 62\n",
      "     ethical: 56\n",
      "  challenges: 46\n",
      "  technology: 43\n",
      "       world: 40\n",
      "   potential: 38\n",
      "      coffee: 37\n",
      "      making: 34\n",
      "      impact: 33\n"
     ]
    }
   ],
   "source": [
    "from sklearn.feature_extraction.text import CountVectorizer\n",
    "\n",
    "for label in [0, 1]:\n",
    "    texts = df[df['generated'] == label]['text']\n",
    "    n = min(100, len(texts))  # use up to 100 samples, or all if less\n",
    "    sample_texts = texts.sample(n, random_state=1) if n > 0 else []\n",
    "    if n == 0:\n",
    "        print(f\"No texts available for label {label}\")\n",
    "        continue\n",
    "\n",
    "    cv = CountVectorizer(stop_words='english', max_features=10)\n",
    "    cv.fit(sample_texts)\n",
    "    words = cv.get_feature_names_out()\n",
    "    freqs = cv.transform(sample_texts).sum(axis=0).A1\n",
    "    print(f\"Most common words in {'Human' if label==0 else 'AI'} texts (top 10):\")\n",
    "    for word, count in sorted(zip(words, freqs), key=lambda x: -x[1]):\n",
    "        print(f\"{word:>12s}: {count}\")\n"
   ]
  },
  {
   "cell_type": "markdown",
   "id": "f46c7623",
   "metadata": {
    "papermill": {
     "duration": 0.004235,
     "end_time": "2025-08-07T14:22:25.373667",
     "exception": false,
     "start_time": "2025-08-07T14:22:25.369432",
     "status": "completed"
    },
    "tags": []
   },
   "source": [
    "# classic ml models\n"
   ]
  },
  {
   "cell_type": "code",
   "execution_count": 9,
   "id": "e1e8aee8",
   "metadata": {
    "execution": {
     "iopub.execute_input": "2025-08-07T14:22:25.384300Z",
     "iopub.status.busy": "2025-08-07T14:22:25.383980Z",
     "iopub.status.idle": "2025-08-07T14:22:25.516649Z",
     "shell.execute_reply": "2025-08-07T14:22:25.515868Z"
    },
    "papermill": {
     "duration": 0.139239,
     "end_time": "2025-08-07T14:22:25.518281",
     "exception": false,
     "start_time": "2025-08-07T14:22:25.379042",
     "status": "completed"
    },
    "tags": []
   },
   "outputs": [],
   "source": [
    "from sklearn.model_selection import train_test_split\n",
    "\n",
    "# Start from the same sampled DataFrame as before:\n",
    "SAMPLE_SIZE = 3000\n",
    "df_sample = df.sample(n=min(SAMPLE_SIZE, len(df)), random_state=42)\n",
    "\n",
    "X = df_sample['text']\n",
    "y = df_sample['generated']\n",
    "\n",
    "# Split stratified, as before\n",
    "X_train, X_test, y_train, y_test = train_test_split(\n",
    "    X, y, test_size=0.2, stratify=y, random_state=42\n",
    ")\n",
    "\n",
    "# Combine train features/labels for resampling\n",
    "train_df = pd.DataFrame({'text': X_train, 'generated': y_train})\n",
    "\n",
    "# Separate majority and minority classes\n",
    "df_majority = train_df[train_df.generated == 0]\n",
    "df_minority = train_df[train_df.generated == 1]\n",
    "\n",
    "# Upsample minority class\n",
    "df_minority_upsampled = df_minority.sample(n=len(df_majority), replace=True, random_state=42)\n",
    "\n",
    "# Combine back to balanced training data\n",
    "df_upsampled = pd.concat([df_majority, df_minority_upsampled])\n",
    "# Shuffle the rows\n",
    "df_upsampled = df_upsampled.sample(frac=1, random_state=42).reset_index(drop=True)\n",
    "\n",
    "# Final features and labels\n",
    "X_train_bal = df_upsampled['text']\n",
    "y_train_bal = df_upsampled['generated']\n"
   ]
  },
  {
   "cell_type": "code",
   "execution_count": 10,
   "id": "1593a161",
   "metadata": {
    "execution": {
     "iopub.execute_input": "2025-08-07T14:22:25.527231Z",
     "iopub.status.busy": "2025-08-07T14:22:25.526946Z",
     "iopub.status.idle": "2025-08-07T14:22:27.186801Z",
     "shell.execute_reply": "2025-08-07T14:22:27.185769Z"
    },
    "papermill": {
     "duration": 1.666619,
     "end_time": "2025-08-07T14:22:27.188741",
     "exception": false,
     "start_time": "2025-08-07T14:22:25.522122",
     "status": "completed"
    },
    "tags": []
   },
   "outputs": [],
   "source": [
    "from sklearn.feature_extraction.text import TfidfVectorizer\n",
    "\n",
    "tfidf = TfidfVectorizer(max_features=3000, ngram_range=(1,2), stop_words=\"english\")\n",
    "X_train_tfidf = tfidf.fit_transform(X_train_bal)\n",
    "X_test_tfidf = tfidf.transform(X_test)\n"
   ]
  },
  {
   "cell_type": "code",
   "execution_count": 11,
   "id": "c6b9dae8",
   "metadata": {
    "execution": {
     "iopub.execute_input": "2025-08-07T14:22:27.198387Z",
     "iopub.status.busy": "2025-08-07T14:22:27.198025Z",
     "iopub.status.idle": "2025-08-07T14:22:27.344871Z",
     "shell.execute_reply": "2025-08-07T14:22:27.343654Z"
    },
    "papermill": {
     "duration": 0.153728,
     "end_time": "2025-08-07T14:22:27.346619",
     "exception": false,
     "start_time": "2025-08-07T14:22:27.192891",
     "status": "completed"
    },
    "tags": []
   },
   "outputs": [
    {
     "name": "stdout",
     "output_type": "stream",
     "text": [
      "== SVM after Upsampling ==\n",
      "Accuracy: 0.9965753424657534\n",
      "F1-score:               precision    recall  f1-score   support\n",
      "\n",
      "           0      0.996     1.000     0.998       275\n",
      "           1      1.000     0.941     0.970        17\n",
      "\n",
      "    accuracy                          0.997       292\n",
      "   macro avg      0.998     0.971     0.984       292\n",
      "weighted avg      0.997     0.997     0.997       292\n",
      "\n",
      "Confusion Matrix: [[275   0]\n",
      " [  1  16]]\n"
     ]
    }
   ],
   "source": [
    "from sklearn.svm import LinearSVC\n",
    "from sklearn.metrics import classification_report, confusion_matrix, accuracy_score\n",
    "\n",
    "svm = LinearSVC()\n",
    "svm.fit(X_train_tfidf, y_train_bal)\n",
    "y_pred = svm.predict(X_test_tfidf)\n",
    "\n",
    "print(\"== SVM after Upsampling ==\")\n",
    "print(\"Accuracy:\", accuracy_score(y_test, y_pred))\n",
    "print(\"F1-score:\", classification_report(y_test, y_pred, digits=3))\n",
    "print(\"Confusion Matrix:\", confusion_matrix(y_test, y_pred))\n"
   ]
  }
 ],
 "metadata": {
  "kaggle": {
   "accelerator": "none",
   "dataSources": [
    {
     "datasetId": 7792257,
     "sourceId": 12359482,
     "sourceType": "datasetVersion"
    }
   ],
   "dockerImageVersionId": 31089,
   "isGpuEnabled": false,
   "isInternetEnabled": true,
   "language": "python",
   "sourceType": "notebook"
  },
  "kernelspec": {
   "display_name": "Python 3",
   "language": "python",
   "name": "python3"
  },
  "language_info": {
   "codemirror_mode": {
    "name": "ipython",
    "version": 3
   },
   "file_extension": ".py",
   "mimetype": "text/x-python",
   "name": "python",
   "nbconvert_exporter": "python",
   "pygments_lexer": "ipython3",
   "version": "3.11.13"
  },
  "papermill": {
   "default_parameters": {},
   "duration": 13.228559,
   "end_time": "2025-08-07T14:22:28.173368",
   "environment_variables": {},
   "exception": null,
   "input_path": "__notebook__.ipynb",
   "output_path": "__notebook__.ipynb",
   "parameters": {},
   "start_time": "2025-08-07T14:22:14.944809",
   "version": "2.6.0"
  }
 },
 "nbformat": 4,
 "nbformat_minor": 5
}
