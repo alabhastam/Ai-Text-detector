{
 "cells": [
  {
   "cell_type": "markdown",
   "id": "bf7c4317",
   "metadata": {
    "papermill": {
     "duration": 0.002141,
     "end_time": "2025-08-07T10:27:44.124109",
     "exception": false,
     "start_time": "2025-08-07T10:27:44.121968",
     "status": "completed"
    },
    "tags": []
   },
   "source": [
    "# Load and glance "
   ]
  },
  {
   "cell_type": "code",
   "execution_count": 1,
   "id": "d813d434",
   "metadata": {
    "execution": {
     "iopub.execute_input": "2025-08-07T10:27:44.129078Z",
     "iopub.status.busy": "2025-08-07T10:27:44.128723Z",
     "iopub.status.idle": "2025-08-07T10:27:47.987331Z",
     "shell.execute_reply": "2025-08-07T10:27:47.986353Z"
    },
    "papermill": {
     "duration": 3.86326,
     "end_time": "2025-08-07T10:27:47.989243",
     "exception": false,
     "start_time": "2025-08-07T10:27:44.125983",
     "status": "completed"
    },
    "tags": []
   },
   "outputs": [],
   "source": [
    "import pandas as pd\n",
    "import numpy as np\n",
    "import matplotlib.pyplot as plt\n",
    "import seaborn as sns\n",
    "\n",
    "df = pd.read_csv('/kaggle/input/ai-generated-essays-dataset/AI Generated Essays Dataset.csv')"
   ]
  },
  {
   "cell_type": "code",
   "execution_count": 2,
   "id": "df8681ab",
   "metadata": {
    "execution": {
     "iopub.execute_input": "2025-08-07T10:27:47.994519Z",
     "iopub.status.busy": "2025-08-07T10:27:47.993670Z",
     "iopub.status.idle": "2025-08-07T10:27:48.035265Z",
     "shell.execute_reply": "2025-08-07T10:27:48.034240Z"
    },
    "papermill": {
     "duration": 0.04581,
     "end_time": "2025-08-07T10:27:48.036940",
     "exception": false,
     "start_time": "2025-08-07T10:27:47.991130",
     "status": "completed"
    },
    "tags": []
   },
   "outputs": [
    {
     "name": "stdout",
     "output_type": "stream",
     "text": [
      "▶︎ Dataset shape: (1460, 2)\n",
      "Column types & missing counts:\n",
      "            dtype  n_missing\n",
      "text       object          0\n",
      "generated   int64          0\n",
      "            dtype  n_missing\n",
      "text       object          0\n",
      "generated   int64          0\n",
      "▶︎ Sample rows:\n"
     ]
    },
    {
     "data": {
      "text/html": [
       "<div>\n",
       "<style scoped>\n",
       "    .dataframe tbody tr th:only-of-type {\n",
       "        vertical-align: middle;\n",
       "    }\n",
       "\n",
       "    .dataframe tbody tr th {\n",
       "        vertical-align: top;\n",
       "    }\n",
       "\n",
       "    .dataframe thead th {\n",
       "        text-align: right;\n",
       "    }\n",
       "</style>\n",
       "<table border=\"1\" class=\"dataframe\">\n",
       "  <thead>\n",
       "    <tr style=\"text-align: right;\">\n",
       "      <th></th>\n",
       "      <th>text</th>\n",
       "      <th>generated</th>\n",
       "    </tr>\n",
       "  </thead>\n",
       "  <tbody>\n",
       "    <tr>\n",
       "      <th>892</th>\n",
       "      <td>The most basic and persistent form of transpor...</td>\n",
       "      <td>0</td>\n",
       "    </tr>\n",
       "    <tr>\n",
       "      <th>1105</th>\n",
       "      <td>Many people are not in favor of keeping the El...</td>\n",
       "      <td>0</td>\n",
       "    </tr>\n",
       "    <tr>\n",
       "      <th>413</th>\n",
       "      <td>Dear State Senator, The Electoral College is a...</td>\n",
       "      <td>0</td>\n",
       "    </tr>\n",
       "  </tbody>\n",
       "</table>\n",
       "</div>"
      ],
      "text/plain": [
       "                                                   text  generated\n",
       "892   The most basic and persistent form of transpor...          0\n",
       "1105  Many people are not in favor of keeping the El...          0\n",
       "413   Dear State Senator, The Electoral College is a...          0"
      ]
     },
     "metadata": {},
     "output_type": "display_data"
    }
   ],
   "source": [
    "print(f\"▶︎ Dataset shape: {df.shape}\")\n",
    "print(\"Column types & missing counts:\")\n",
    "print(df.dtypes.to_frame(\"dtype\").join(df.isna().sum().to_frame(\"n_missing\")))\n",
    "print(df.dtypes.to_frame(\"dtype\").join(df.isna().sum().to_frame(\"n_missing\")))\n",
    "\n",
    "print(\"▶︎ Sample rows:\")\n",
    "display(df.sample(3, random_state=42))\n",
    "\n"
   ]
  },
  {
   "cell_type": "code",
   "execution_count": null,
   "id": "09fff141",
   "metadata": {
    "papermill": {
     "duration": 0.001655,
     "end_time": "2025-08-07T10:27:48.040653",
     "exception": false,
     "start_time": "2025-08-07T10:27:48.038998",
     "status": "completed"
    },
    "tags": []
   },
   "outputs": [],
   "source": []
  }
 ],
 "metadata": {
  "kaggle": {
   "accelerator": "none",
   "dataSources": [
    {
     "datasetId": 7792257,
     "sourceId": 12359482,
     "sourceType": "datasetVersion"
    }
   ],
   "dockerImageVersionId": 31089,
   "isGpuEnabled": false,
   "isInternetEnabled": true,
   "language": "python",
   "sourceType": "notebook"
  },
  "kernelspec": {
   "display_name": "Python 3",
   "language": "python",
   "name": "python3"
  },
  "language_info": {
   "codemirror_mode": {
    "name": "ipython",
    "version": 3
   },
   "file_extension": ".py",
   "mimetype": "text/x-python",
   "name": "python",
   "nbconvert_exporter": "python",
   "pygments_lexer": "ipython3",
   "version": "3.11.13"
  },
  "papermill": {
   "default_parameters": {},
   "duration": 9.501696,
   "end_time": "2025-08-07T10:27:48.763934",
   "environment_variables": {},
   "exception": null,
   "input_path": "__notebook__.ipynb",
   "output_path": "__notebook__.ipynb",
   "parameters": {},
   "start_time": "2025-08-07T10:27:39.262238",
   "version": "2.6.0"
  }
 },
 "nbformat": 4,
 "nbformat_minor": 5
}
