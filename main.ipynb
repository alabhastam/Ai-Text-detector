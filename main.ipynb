{
 "cells": [
  {
   "cell_type": "markdown",
   "id": "03c5becf",
   "metadata": {
    "papermill": {
     "duration": 0.002675,
     "end_time": "2025-08-07T11:55:07.914662",
     "exception": false,
     "start_time": "2025-08-07T11:55:07.911987",
     "status": "completed"
    },
    "tags": []
   },
   "source": [
    "# Load and glance "
   ]
  },
  {
   "cell_type": "code",
   "execution_count": 1,
   "id": "1956c4d5",
   "metadata": {
    "execution": {
     "iopub.execute_input": "2025-08-07T11:55:07.921015Z",
     "iopub.status.busy": "2025-08-07T11:55:07.920246Z",
     "iopub.status.idle": "2025-08-07T11:55:11.825816Z",
     "shell.execute_reply": "2025-08-07T11:55:11.824828Z"
    },
    "papermill": {
     "duration": 3.910682,
     "end_time": "2025-08-07T11:55:11.827870",
     "exception": false,
     "start_time": "2025-08-07T11:55:07.917188",
     "status": "completed"
    },
    "tags": []
   },
   "outputs": [],
   "source": [
    "import pandas as pd\n",
    "import numpy as np\n",
    "import matplotlib.pyplot as plt\n",
    "import seaborn as sns\n",
    "\n",
    "df = pd.read_csv('/kaggle/input/ai-generated-essays-dataset/AI Generated Essays Dataset.csv')"
   ]
  },
  {
   "cell_type": "code",
   "execution_count": 2,
   "id": "d01f2361",
   "metadata": {
    "execution": {
     "iopub.execute_input": "2025-08-07T11:55:11.833908Z",
     "iopub.status.busy": "2025-08-07T11:55:11.833627Z",
     "iopub.status.idle": "2025-08-07T11:55:11.886625Z",
     "shell.execute_reply": "2025-08-07T11:55:11.885617Z"
    },
    "papermill": {
     "duration": 0.05793,
     "end_time": "2025-08-07T11:55:11.888397",
     "exception": false,
     "start_time": "2025-08-07T11:55:11.830467",
     "status": "completed"
    },
    "tags": []
   },
   "outputs": [
    {
     "name": "stdout",
     "output_type": "stream",
     "text": [
      "▶︎ Dataset shape: (1460, 2)\n",
      "Column types & missing counts:\n",
      "            dtype  n_missing\n",
      "text       object          0\n",
      "generated   int64          0\n",
      "            dtype  n_missing\n",
      "text       object          0\n",
      "generated   int64          0\n",
      "▶︎ Sample rows:\n"
     ]
    },
    {
     "data": {
      "text/html": [
       "<div>\n",
       "<style scoped>\n",
       "    .dataframe tbody tr th:only-of-type {\n",
       "        vertical-align: middle;\n",
       "    }\n",
       "\n",
       "    .dataframe tbody tr th {\n",
       "        vertical-align: top;\n",
       "    }\n",
       "\n",
       "    .dataframe thead th {\n",
       "        text-align: right;\n",
       "    }\n",
       "</style>\n",
       "<table border=\"1\" class=\"dataframe\">\n",
       "  <thead>\n",
       "    <tr style=\"text-align: right;\">\n",
       "      <th></th>\n",
       "      <th>text</th>\n",
       "      <th>generated</th>\n",
       "    </tr>\n",
       "  </thead>\n",
       "  <tbody>\n",
       "    <tr>\n",
       "      <th>892</th>\n",
       "      <td>The most basic and persistent form of transpor...</td>\n",
       "      <td>0</td>\n",
       "    </tr>\n",
       "    <tr>\n",
       "      <th>1105</th>\n",
       "      <td>Many people are not in favor of keeping the El...</td>\n",
       "      <td>0</td>\n",
       "    </tr>\n",
       "    <tr>\n",
       "      <th>413</th>\n",
       "      <td>Dear State Senator, The Electoral College is a...</td>\n",
       "      <td>0</td>\n",
       "    </tr>\n",
       "  </tbody>\n",
       "</table>\n",
       "</div>"
      ],
      "text/plain": [
       "                                                   text  generated\n",
       "892   The most basic and persistent form of transpor...          0\n",
       "1105  Many people are not in favor of keeping the El...          0\n",
       "413   Dear State Senator, The Electoral College is a...          0"
      ]
     },
     "metadata": {},
     "output_type": "display_data"
    }
   ],
   "source": [
    "print(f\"▶︎ Dataset shape: {df.shape}\")\n",
    "print(\"Column types & missing counts:\")\n",
    "print(df.dtypes.to_frame(\"dtype\").join(df.isna().sum().to_frame(\"n_missing\")))\n",
    "print(df.dtypes.to_frame(\"dtype\").join(df.isna().sum().to_frame(\"n_missing\")))\n",
    "\n",
    "print(\"▶︎ Sample rows:\")\n",
    "display(df.sample(3, random_state=42))\n",
    "\n"
   ]
  },
  {
   "cell_type": "code",
   "execution_count": 3,
   "id": "b8c46d44",
   "metadata": {
    "execution": {
     "iopub.execute_input": "2025-08-07T11:55:11.895630Z",
     "iopub.status.busy": "2025-08-07T11:55:11.895288Z",
     "iopub.status.idle": "2025-08-07T11:55:11.921969Z",
     "shell.execute_reply": "2025-08-07T11:55:11.921032Z"
    },
    "papermill": {
     "duration": 0.032936,
     "end_time": "2025-08-07T11:55:11.923963",
     "exception": false,
     "start_time": "2025-08-07T11:55:11.891027",
     "status": "completed"
    },
    "tags": []
   },
   "outputs": [
    {
     "name": "stdout",
     "output_type": "stream",
     "text": [
      "▶︎ Label distribution:\n"
     ]
    },
    {
     "data": {
      "text/html": [
       "<div>\n",
       "<style scoped>\n",
       "    .dataframe tbody tr th:only-of-type {\n",
       "        vertical-align: middle;\n",
       "    }\n",
       "\n",
       "    .dataframe tbody tr th {\n",
       "        vertical-align: top;\n",
       "    }\n",
       "\n",
       "    .dataframe thead th {\n",
       "        text-align: right;\n",
       "    }\n",
       "</style>\n",
       "<table border=\"1\" class=\"dataframe\">\n",
       "  <thead>\n",
       "    <tr style=\"text-align: right;\">\n",
       "      <th></th>\n",
       "      <th>text</th>\n",
       "      <th>count</th>\n",
       "      <th>pct</th>\n",
       "    </tr>\n",
       "  </thead>\n",
       "  <tbody>\n",
       "    <tr>\n",
       "      <th>0</th>\n",
       "      <td>\"The evolution of artificial intelligence (AI)...</td>\n",
       "      <td>2</td>\n",
       "      <td>0.136986</td>\n",
       "    </tr>\n",
       "    <tr>\n",
       "      <th>1</th>\n",
       "      <td>Machine learning, a subset of artificial intel...</td>\n",
       "      <td>1</td>\n",
       "      <td>0.068493</td>\n",
       "    </tr>\n",
       "    <tr>\n",
       "      <th>2</th>\n",
       "      <td>Cars most people use them for transportation. ...</td>\n",
       "      <td>1</td>\n",
       "      <td>0.068493</td>\n",
       "    </tr>\n",
       "    <tr>\n",
       "      <th>3</th>\n",
       "      <td>Limiting car usage has many advantages, from s...</td>\n",
       "      <td>1</td>\n",
       "      <td>0.068493</td>\n",
       "    </tr>\n",
       "    <tr>\n",
       "      <th>4</th>\n",
       "      <td>For many years people have been using cars to ...</td>\n",
       "      <td>1</td>\n",
       "      <td>0.068493</td>\n",
       "    </tr>\n",
       "    <tr>\n",
       "      <th>...</th>\n",
       "      <td>...</td>\n",
       "      <td>...</td>\n",
       "      <td>...</td>\n",
       "    </tr>\n",
       "    <tr>\n",
       "      <th>1454</th>\n",
       "      <td>Imagine the world in the future, completely fu...</td>\n",
       "      <td>1</td>\n",
       "      <td>0.068493</td>\n",
       "    </tr>\n",
       "    <tr>\n",
       "      <th>1455</th>\n",
       "      <td>Dear every state senator of the United States ...</td>\n",
       "      <td>1</td>\n",
       "      <td>0.068493</td>\n",
       "    </tr>\n",
       "    <tr>\n",
       "      <th>1456</th>\n",
       "      <td>Richard Nixon, Jimmy Carter, and Bob Dole are ...</td>\n",
       "      <td>1</td>\n",
       "      <td>0.068493</td>\n",
       "    </tr>\n",
       "    <tr>\n",
       "      <th>1457</th>\n",
       "      <td>When you think about limiting car usage you mi...</td>\n",
       "      <td>1</td>\n",
       "      <td>0.068493</td>\n",
       "    </tr>\n",
       "    <tr>\n",
       "      <th>1458</th>\n",
       "      <td>Cars have been around since the 1800's and hav...</td>\n",
       "      <td>1</td>\n",
       "      <td>0.068493</td>\n",
       "    </tr>\n",
       "  </tbody>\n",
       "</table>\n",
       "<p>1459 rows × 3 columns</p>\n",
       "</div>"
      ],
      "text/plain": [
       "                                                   text  count       pct\n",
       "0     \"The evolution of artificial intelligence (AI)...      2  0.136986\n",
       "1     Machine learning, a subset of artificial intel...      1  0.068493\n",
       "2     Cars most people use them for transportation. ...      1  0.068493\n",
       "3     Limiting car usage has many advantages, from s...      1  0.068493\n",
       "4     For many years people have been using cars to ...      1  0.068493\n",
       "...                                                 ...    ...       ...\n",
       "1454  Imagine the world in the future, completely fu...      1  0.068493\n",
       "1455  Dear every state senator of the United States ...      1  0.068493\n",
       "1456  Richard Nixon, Jimmy Carter, and Bob Dole are ...      1  0.068493\n",
       "1457  When you think about limiting car usage you mi...      1  0.068493\n",
       "1458  Cars have been around since the 1800's and hav...      1  0.068493\n",
       "\n",
       "[1459 rows x 3 columns]"
      ]
     },
     "metadata": {},
     "output_type": "display_data"
    }
   ],
   "source": [
    "label_counts = df[\"text\"].value_counts().rename_axis(\"text\").reset_index(name=\"count\")\n",
    "label_counts[\"pct\"] = 100 * label_counts[\"count\"] / label_counts[\"count\"].sum()\n",
    "print(\"▶︎ Label distribution:\")\n",
    "display(label_counts)"
   ]
  },
  {
   "cell_type": "code",
   "execution_count": 4,
   "id": "4d3f5fd7",
   "metadata": {
    "execution": {
     "iopub.execute_input": "2025-08-07T11:55:11.930749Z",
     "iopub.status.busy": "2025-08-07T11:55:11.930485Z",
     "iopub.status.idle": "2025-08-07T11:55:11.938200Z",
     "shell.execute_reply": "2025-08-07T11:55:11.936758Z"
    },
    "papermill": {
     "duration": 0.013142,
     "end_time": "2025-08-07T11:55:11.940077",
     "exception": false,
     "start_time": "2025-08-07T11:55:11.926935",
     "status": "completed"
    },
    "tags": []
   },
   "outputs": [],
   "source": [
    "# ------ SAMPLE DATA FOR SPEED -------- #\n",
    "SAMPLE_SIZE = 3000  # You can lower or raise this\n",
    "df_sample = df.sample(n=min(SAMPLE_SIZE, len(df)), random_state=2024).reset_index(drop=True)"
   ]
  },
  {
   "cell_type": "code",
   "execution_count": 5,
   "id": "2708193a",
   "metadata": {
    "execution": {
     "iopub.execute_input": "2025-08-07T11:55:11.947207Z",
     "iopub.status.busy": "2025-08-07T11:55:11.946921Z",
     "iopub.status.idle": "2025-08-07T11:55:11.963938Z",
     "shell.execute_reply": "2025-08-07T11:55:11.962469Z"
    },
    "papermill": {
     "duration": 0.022498,
     "end_time": "2025-08-07T11:55:11.965445",
     "exception": false,
     "start_time": "2025-08-07T11:55:11.942947",
     "status": "completed"
    },
    "tags": []
   },
   "outputs": [
    {
     "name": "stdout",
     "output_type": "stream",
     "text": [
      "▶︎ Label distribution:\n"
     ]
    },
    {
     "data": {
      "text/html": [
       "<div>\n",
       "<style scoped>\n",
       "    .dataframe tbody tr th:only-of-type {\n",
       "        vertical-align: middle;\n",
       "    }\n",
       "\n",
       "    .dataframe tbody tr th {\n",
       "        vertical-align: top;\n",
       "    }\n",
       "\n",
       "    .dataframe thead th {\n",
       "        text-align: right;\n",
       "    }\n",
       "</style>\n",
       "<table border=\"1\" class=\"dataframe\">\n",
       "  <thead>\n",
       "    <tr style=\"text-align: right;\">\n",
       "      <th></th>\n",
       "      <th>text</th>\n",
       "      <th>count</th>\n",
       "      <th>pct</th>\n",
       "    </tr>\n",
       "  </thead>\n",
       "  <tbody>\n",
       "    <tr>\n",
       "      <th>0</th>\n",
       "      <td>\" All of our development since World War 2 has...</td>\n",
       "      <td>1</td>\n",
       "      <td>0.07</td>\n",
       "    </tr>\n",
       "    <tr>\n",
       "      <th>1</th>\n",
       "      <td>\" The Electoral College is a process, not a pl...</td>\n",
       "      <td>1</td>\n",
       "      <td>0.07</td>\n",
       "    </tr>\n",
       "    <tr>\n",
       "      <th>2</th>\n",
       "      <td>\" What's wrong with the Electoral College?\" To...</td>\n",
       "      <td>1</td>\n",
       "      <td>0.07</td>\n",
       "    </tr>\n",
       "    <tr>\n",
       "      <th>3</th>\n",
       "      <td>\"Abolish the electoral college!\" is a famous s...</td>\n",
       "      <td>1</td>\n",
       "      <td>0.07</td>\n",
       "    </tr>\n",
       "    <tr>\n",
       "      <th>4</th>\n",
       "      <td>\"All of our development since World War II has...</td>\n",
       "      <td>1</td>\n",
       "      <td>0.07</td>\n",
       "    </tr>\n",
       "    <tr>\n",
       "      <th>...</th>\n",
       "      <td>...</td>\n",
       "      <td>...</td>\n",
       "      <td>...</td>\n",
       "    </tr>\n",
       "    <tr>\n",
       "      <th>1454</th>\n",
       "      <td>out with the old and in with the new. \"The Ele...</td>\n",
       "      <td>1</td>\n",
       "      <td>0.07</td>\n",
       "    </tr>\n",
       "    <tr>\n",
       "      <th>1455</th>\n",
       "      <td>studies have shown that passenger cars are res...</td>\n",
       "      <td>1</td>\n",
       "      <td>0.07</td>\n",
       "    </tr>\n",
       "    <tr>\n",
       "      <th>1456</th>\n",
       "      <td>there are many thing in life people want and n...</td>\n",
       "      <td>1</td>\n",
       "      <td>0.07</td>\n",
       "    </tr>\n",
       "    <tr>\n",
       "      <th>1457</th>\n",
       "      <td>transportation has been a key part of many soc...</td>\n",
       "      <td>1</td>\n",
       "      <td>0.07</td>\n",
       "    </tr>\n",
       "    <tr>\n",
       "      <th>1458</th>\n",
       "      <td>when looking at the world from a birds eye vie...</td>\n",
       "      <td>1</td>\n",
       "      <td>0.07</td>\n",
       "    </tr>\n",
       "  </tbody>\n",
       "</table>\n",
       "<p>1459 rows × 3 columns</p>\n",
       "</div>"
      ],
      "text/plain": [
       "                                                   text  count   pct\n",
       "0     \" All of our development since World War 2 has...      1  0.07\n",
       "1     \" The Electoral College is a process, not a pl...      1  0.07\n",
       "2     \" What's wrong with the Electoral College?\" To...      1  0.07\n",
       "3     \"Abolish the electoral college!\" is a famous s...      1  0.07\n",
       "4     \"All of our development since World War II has...      1  0.07\n",
       "...                                                 ...    ...   ...\n",
       "1454  out with the old and in with the new. \"The Ele...      1  0.07\n",
       "1455  studies have shown that passenger cars are res...      1  0.07\n",
       "1456  there are many thing in life people want and n...      1  0.07\n",
       "1457  transportation has been a key part of many soc...      1  0.07\n",
       "1458  when looking at the world from a birds eye vie...      1  0.07\n",
       "\n",
       "[1459 rows x 3 columns]"
      ]
     },
     "metadata": {},
     "output_type": "display_data"
    }
   ],
   "source": [
    "# ------ LABEL DISTRIBUTION ON ALL DATA (for accuracy) -------- #\n",
    "label_counts = df[\"text\"].value_counts().sort_index().reset_index()\n",
    "label_counts.columns = [\"text\", \"count\"]\n",
    "label_counts[\"pct\"] = (100 * label_counts[\"count\"] / label_counts[\"count\"].sum()).round(2)\n",
    "print(\"▶︎ Label distribution:\")\n",
    "display(label_counts)"
   ]
  },
  {
   "cell_type": "code",
   "execution_count": 6,
   "id": "ce4e03f7",
   "metadata": {
    "execution": {
     "iopub.execute_input": "2025-08-07T11:55:11.978134Z",
     "iopub.status.busy": "2025-08-07T11:55:11.977349Z",
     "iopub.status.idle": "2025-08-07T11:55:11.988258Z",
     "shell.execute_reply": "2025-08-07T11:55:11.987009Z"
    },
    "papermill": {
     "duration": 0.021389,
     "end_time": "2025-08-07T11:55:11.989877",
     "exception": false,
     "start_time": "2025-08-07T11:55:11.968488",
     "status": "completed"
    },
    "tags": []
   },
   "outputs": [
    {
     "name": "stdout",
     "output_type": "stream",
     "text": [
      "generated\n",
      "0    1375\n",
      "1      85\n",
      "Name: count, dtype: int64\n",
      "Human-written:   1375\n",
      "AI-generated:    85\n"
     ]
    }
   ],
   "source": [
    "# Simple count of 0s and 1s in the 'generated' column:\n",
    "print(df['generated'].value_counts())\n",
    "\n",
    "human_count = (df['generated'] == 0).sum()\n",
    "ai_count = (df['generated'] == 1).sum()\n",
    "print(f\"Human-written:   {human_count}\")\n",
    "print(f\"AI-generated:    {ai_count}\")"
   ]
  },
  {
   "cell_type": "code",
   "execution_count": 7,
   "id": "c324bf1c",
   "metadata": {
    "execution": {
     "iopub.execute_input": "2025-08-07T11:55:11.997357Z",
     "iopub.status.busy": "2025-08-07T11:55:11.997080Z",
     "iopub.status.idle": "2025-08-07T11:55:12.003526Z",
     "shell.execute_reply": "2025-08-07T11:55:12.002542Z"
    },
    "papermill": {
     "duration": 0.012019,
     "end_time": "2025-08-07T11:55:12.005008",
     "exception": false,
     "start_time": "2025-08-07T11:55:11.992989",
     "status": "completed"
    },
    "tags": []
   },
   "outputs": [
    {
     "name": "stdout",
     "output_type": "stream",
     "text": [
      "text         0\n",
      "generated    0\n",
      "dtype: int64\n"
     ]
    }
   ],
   "source": [
    "print(df.isnull().sum())\n"
   ]
  },
  {
   "cell_type": "markdown",
   "id": "dad5ffb2",
   "metadata": {
    "papermill": {
     "duration": 0.002902,
     "end_time": "2025-08-07T11:55:12.011319",
     "exception": false,
     "start_time": "2025-08-07T11:55:12.008417",
     "status": "completed"
    },
    "tags": []
   },
   "source": [
    "# Fast world cloud"
   ]
  },
  {
   "cell_type": "code",
   "execution_count": 8,
   "id": "3e997dff",
   "metadata": {
    "execution": {
     "iopub.execute_input": "2025-08-07T11:55:12.018645Z",
     "iopub.status.busy": "2025-08-07T11:55:12.018036Z",
     "iopub.status.idle": "2025-08-07T11:55:12.404877Z",
     "shell.execute_reply": "2025-08-07T11:55:12.403397Z"
    },
    "papermill": {
     "duration": 0.392095,
     "end_time": "2025-08-07T11:55:12.406286",
     "exception": false,
     "start_time": "2025-08-07T11:55:12.014191",
     "status": "completed"
    },
    "tags": []
   },
   "outputs": [
    {
     "name": "stdout",
     "output_type": "stream",
     "text": [
      "Most common words in Human texts (top 10):\n",
      "   electoral: 562\n",
      "      people: 549\n",
      "        vote: 511\n",
      "     college: 446\n",
      "         car: 391\n",
      "        cars: 323\n",
      "      states: 315\n",
      "   president: 284\n",
      "       votes: 232\n",
      "    electors: 213\n",
      "Most common words in AI texts (top 10):\n",
      "          ai: 69\n",
      "      energy: 62\n",
      "     ethical: 56\n",
      "  challenges: 46\n",
      "  technology: 43\n",
      "       world: 40\n",
      "   potential: 38\n",
      "      coffee: 37\n",
      "      making: 34\n",
      "      impact: 33\n"
     ]
    }
   ],
   "source": [
    "from sklearn.feature_extraction.text import CountVectorizer\n",
    "\n",
    "for label in [0, 1]:\n",
    "    texts = df[df['generated'] == label]['text']\n",
    "    n = min(100, len(texts))  # use up to 100 samples, or all if less\n",
    "    sample_texts = texts.sample(n, random_state=1) if n > 0 else []\n",
    "    if n == 0:\n",
    "        print(f\"No texts available for label {label}\")\n",
    "        continue\n",
    "\n",
    "    cv = CountVectorizer(stop_words='english', max_features=10)\n",
    "    cv.fit(sample_texts)\n",
    "    words = cv.get_feature_names_out()\n",
    "    freqs = cv.transform(sample_texts).sum(axis=0).A1\n",
    "    print(f\"Most common words in {'Human' if label==0 else 'AI'} texts (top 10):\")\n",
    "    for word, count in sorted(zip(words, freqs), key=lambda x: -x[1]):\n",
    "        print(f\"{word:>12s}: {count}\")\n"
   ]
  }
 ],
 "metadata": {
  "kaggle": {
   "accelerator": "none",
   "dataSources": [
    {
     "datasetId": 7792257,
     "sourceId": 12359482,
     "sourceType": "datasetVersion"
    }
   ],
   "dockerImageVersionId": 31089,
   "isGpuEnabled": false,
   "isInternetEnabled": true,
   "language": "python",
   "sourceType": "notebook"
  },
  "kernelspec": {
   "display_name": "Python 3",
   "language": "python",
   "name": "python3"
  },
  "language_info": {
   "codemirror_mode": {
    "name": "ipython",
    "version": 3
   },
   "file_extension": ".py",
   "mimetype": "text/x-python",
   "name": "python",
   "nbconvert_exporter": "python",
   "pygments_lexer": "ipython3",
   "version": "3.11.13"
  },
  "papermill": {
   "default_parameters": {},
   "duration": 9.826125,
   "end_time": "2025-08-07T11:55:13.029101",
   "environment_variables": {},
   "exception": null,
   "input_path": "__notebook__.ipynb",
   "output_path": "__notebook__.ipynb",
   "parameters": {},
   "start_time": "2025-08-07T11:55:03.202976",
   "version": "2.6.0"
  }
 },
 "nbformat": 4,
 "nbformat_minor": 5
}
