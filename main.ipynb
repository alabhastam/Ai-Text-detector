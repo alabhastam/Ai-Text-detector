{
 "cells": [
  {
   "cell_type": "markdown",
   "id": "cbd51a21",
   "metadata": {
    "papermill": {
     "duration": 0.004799,
     "end_time": "2025-08-07T15:08:45.763396",
     "exception": false,
     "start_time": "2025-08-07T15:08:45.758597",
     "status": "completed"
    },
    "tags": []
   },
   "source": [
    "# Load and glance "
   ]
  },
  {
   "cell_type": "code",
   "execution_count": 1,
   "id": "f24abea9",
   "metadata": {
    "execution": {
     "iopub.execute_input": "2025-08-07T15:08:45.773355Z",
     "iopub.status.busy": "2025-08-07T15:08:45.773053Z",
     "iopub.status.idle": "2025-08-07T15:08:49.809992Z",
     "shell.execute_reply": "2025-08-07T15:08:49.808754Z"
    },
    "papermill": {
     "duration": 4.044408,
     "end_time": "2025-08-07T15:08:49.812118",
     "exception": false,
     "start_time": "2025-08-07T15:08:45.767710",
     "status": "completed"
    },
    "tags": []
   },
   "outputs": [],
   "source": [
    "import pandas as pd\n",
    "import numpy as np\n",
    "import matplotlib.pyplot as plt\n",
    "import seaborn as sns\n",
    "\n",
    "df = pd.read_csv('/kaggle/input/ai-generated-essays-dataset/AI Generated Essays Dataset.csv')"
   ]
  },
  {
   "cell_type": "code",
   "execution_count": 2,
   "id": "7112bc6d",
   "metadata": {
    "execution": {
     "iopub.execute_input": "2025-08-07T15:08:49.821712Z",
     "iopub.status.busy": "2025-08-07T15:08:49.821402Z",
     "iopub.status.idle": "2025-08-07T15:08:49.864038Z",
     "shell.execute_reply": "2025-08-07T15:08:49.863005Z"
    },
    "papermill": {
     "duration": 0.049166,
     "end_time": "2025-08-07T15:08:49.865584",
     "exception": false,
     "start_time": "2025-08-07T15:08:49.816418",
     "status": "completed"
    },
    "tags": []
   },
   "outputs": [
    {
     "name": "stdout",
     "output_type": "stream",
     "text": [
      "▶︎ Dataset shape: (1460, 2)\n",
      "Column types & missing counts:\n",
      "            dtype  n_missing\n",
      "text       object          0\n",
      "generated   int64          0\n",
      "            dtype  n_missing\n",
      "text       object          0\n",
      "generated   int64          0\n",
      "▶︎ Sample rows:\n"
     ]
    },
    {
     "data": {
      "text/html": [
       "<div>\n",
       "<style scoped>\n",
       "    .dataframe tbody tr th:only-of-type {\n",
       "        vertical-align: middle;\n",
       "    }\n",
       "\n",
       "    .dataframe tbody tr th {\n",
       "        vertical-align: top;\n",
       "    }\n",
       "\n",
       "    .dataframe thead th {\n",
       "        text-align: right;\n",
       "    }\n",
       "</style>\n",
       "<table border=\"1\" class=\"dataframe\">\n",
       "  <thead>\n",
       "    <tr style=\"text-align: right;\">\n",
       "      <th></th>\n",
       "      <th>text</th>\n",
       "      <th>generated</th>\n",
       "    </tr>\n",
       "  </thead>\n",
       "  <tbody>\n",
       "    <tr>\n",
       "      <th>892</th>\n",
       "      <td>The most basic and persistent form of transpor...</td>\n",
       "      <td>0</td>\n",
       "    </tr>\n",
       "    <tr>\n",
       "      <th>1105</th>\n",
       "      <td>Many people are not in favor of keeping the El...</td>\n",
       "      <td>0</td>\n",
       "    </tr>\n",
       "    <tr>\n",
       "      <th>413</th>\n",
       "      <td>Dear State Senator, The Electoral College is a...</td>\n",
       "      <td>0</td>\n",
       "    </tr>\n",
       "  </tbody>\n",
       "</table>\n",
       "</div>"
      ],
      "text/plain": [
       "                                                   text  generated\n",
       "892   The most basic and persistent form of transpor...          0\n",
       "1105  Many people are not in favor of keeping the El...          0\n",
       "413   Dear State Senator, The Electoral College is a...          0"
      ]
     },
     "metadata": {},
     "output_type": "display_data"
    }
   ],
   "source": [
    "print(f\"▶︎ Dataset shape: {df.shape}\")\n",
    "print(\"Column types & missing counts:\")\n",
    "print(df.dtypes.to_frame(\"dtype\").join(df.isna().sum().to_frame(\"n_missing\")))\n",
    "print(df.dtypes.to_frame(\"dtype\").join(df.isna().sum().to_frame(\"n_missing\")))\n",
    "\n",
    "print(\"▶︎ Sample rows:\")\n",
    "display(df.sample(3, random_state=42))\n",
    "\n"
   ]
  },
  {
   "cell_type": "code",
   "execution_count": 3,
   "id": "11098db9",
   "metadata": {
    "execution": {
     "iopub.execute_input": "2025-08-07T15:08:49.876359Z",
     "iopub.status.busy": "2025-08-07T15:08:49.875813Z",
     "iopub.status.idle": "2025-08-07T15:08:49.901227Z",
     "shell.execute_reply": "2025-08-07T15:08:49.900418Z"
    },
    "papermill": {
     "duration": 0.032447,
     "end_time": "2025-08-07T15:08:49.902562",
     "exception": false,
     "start_time": "2025-08-07T15:08:49.870115",
     "status": "completed"
    },
    "tags": []
   },
   "outputs": [
    {
     "name": "stdout",
     "output_type": "stream",
     "text": [
      "▶︎ Label distribution:\n"
     ]
    },
    {
     "data": {
      "text/html": [
       "<div>\n",
       "<style scoped>\n",
       "    .dataframe tbody tr th:only-of-type {\n",
       "        vertical-align: middle;\n",
       "    }\n",
       "\n",
       "    .dataframe tbody tr th {\n",
       "        vertical-align: top;\n",
       "    }\n",
       "\n",
       "    .dataframe thead th {\n",
       "        text-align: right;\n",
       "    }\n",
       "</style>\n",
       "<table border=\"1\" class=\"dataframe\">\n",
       "  <thead>\n",
       "    <tr style=\"text-align: right;\">\n",
       "      <th></th>\n",
       "      <th>text</th>\n",
       "      <th>count</th>\n",
       "      <th>pct</th>\n",
       "    </tr>\n",
       "  </thead>\n",
       "  <tbody>\n",
       "    <tr>\n",
       "      <th>0</th>\n",
       "      <td>\"The evolution of artificial intelligence (AI)...</td>\n",
       "      <td>2</td>\n",
       "      <td>0.136986</td>\n",
       "    </tr>\n",
       "    <tr>\n",
       "      <th>1</th>\n",
       "      <td>Machine learning, a subset of artificial intel...</td>\n",
       "      <td>1</td>\n",
       "      <td>0.068493</td>\n",
       "    </tr>\n",
       "    <tr>\n",
       "      <th>2</th>\n",
       "      <td>Cars most people use them for transportation. ...</td>\n",
       "      <td>1</td>\n",
       "      <td>0.068493</td>\n",
       "    </tr>\n",
       "    <tr>\n",
       "      <th>3</th>\n",
       "      <td>Limiting car usage has many advantages, from s...</td>\n",
       "      <td>1</td>\n",
       "      <td>0.068493</td>\n",
       "    </tr>\n",
       "    <tr>\n",
       "      <th>4</th>\n",
       "      <td>For many years people have been using cars to ...</td>\n",
       "      <td>1</td>\n",
       "      <td>0.068493</td>\n",
       "    </tr>\n",
       "    <tr>\n",
       "      <th>...</th>\n",
       "      <td>...</td>\n",
       "      <td>...</td>\n",
       "      <td>...</td>\n",
       "    </tr>\n",
       "    <tr>\n",
       "      <th>1454</th>\n",
       "      <td>Imagine the world in the future, completely fu...</td>\n",
       "      <td>1</td>\n",
       "      <td>0.068493</td>\n",
       "    </tr>\n",
       "    <tr>\n",
       "      <th>1455</th>\n",
       "      <td>Dear every state senator of the United States ...</td>\n",
       "      <td>1</td>\n",
       "      <td>0.068493</td>\n",
       "    </tr>\n",
       "    <tr>\n",
       "      <th>1456</th>\n",
       "      <td>Richard Nixon, Jimmy Carter, and Bob Dole are ...</td>\n",
       "      <td>1</td>\n",
       "      <td>0.068493</td>\n",
       "    </tr>\n",
       "    <tr>\n",
       "      <th>1457</th>\n",
       "      <td>When you think about limiting car usage you mi...</td>\n",
       "      <td>1</td>\n",
       "      <td>0.068493</td>\n",
       "    </tr>\n",
       "    <tr>\n",
       "      <th>1458</th>\n",
       "      <td>Cars have been around since the 1800's and hav...</td>\n",
       "      <td>1</td>\n",
       "      <td>0.068493</td>\n",
       "    </tr>\n",
       "  </tbody>\n",
       "</table>\n",
       "<p>1459 rows × 3 columns</p>\n",
       "</div>"
      ],
      "text/plain": [
       "                                                   text  count       pct\n",
       "0     \"The evolution of artificial intelligence (AI)...      2  0.136986\n",
       "1     Machine learning, a subset of artificial intel...      1  0.068493\n",
       "2     Cars most people use them for transportation. ...      1  0.068493\n",
       "3     Limiting car usage has many advantages, from s...      1  0.068493\n",
       "4     For many years people have been using cars to ...      1  0.068493\n",
       "...                                                 ...    ...       ...\n",
       "1454  Imagine the world in the future, completely fu...      1  0.068493\n",
       "1455  Dear every state senator of the United States ...      1  0.068493\n",
       "1456  Richard Nixon, Jimmy Carter, and Bob Dole are ...      1  0.068493\n",
       "1457  When you think about limiting car usage you mi...      1  0.068493\n",
       "1458  Cars have been around since the 1800's and hav...      1  0.068493\n",
       "\n",
       "[1459 rows x 3 columns]"
      ]
     },
     "metadata": {},
     "output_type": "display_data"
    }
   ],
   "source": [
    "label_counts = df[\"text\"].value_counts().rename_axis(\"text\").reset_index(name=\"count\")\n",
    "label_counts[\"pct\"] = 100 * label_counts[\"count\"] / label_counts[\"count\"].sum()\n",
    "print(\"▶︎ Label distribution:\")\n",
    "display(label_counts)"
   ]
  },
  {
   "cell_type": "code",
   "execution_count": 4,
   "id": "20046f22",
   "metadata": {
    "execution": {
     "iopub.execute_input": "2025-08-07T15:08:49.913288Z",
     "iopub.status.busy": "2025-08-07T15:08:49.912989Z",
     "iopub.status.idle": "2025-08-07T15:08:49.918915Z",
     "shell.execute_reply": "2025-08-07T15:08:49.918000Z"
    },
    "papermill": {
     "duration": 0.013135,
     "end_time": "2025-08-07T15:08:49.920495",
     "exception": false,
     "start_time": "2025-08-07T15:08:49.907360",
     "status": "completed"
    },
    "tags": []
   },
   "outputs": [],
   "source": [
    "# ------ SAMPLE DATA FOR SPEED -------- #\n",
    "SAMPLE_SIZE = 3000  # You can lower or raise this\n",
    "df_sample = df.sample(n=min(SAMPLE_SIZE, len(df)), random_state=2024).reset_index(drop=True)"
   ]
  },
  {
   "cell_type": "code",
   "execution_count": 5,
   "id": "8faccb6d",
   "metadata": {
    "execution": {
     "iopub.execute_input": "2025-08-07T15:08:49.932128Z",
     "iopub.status.busy": "2025-08-07T15:08:49.931815Z",
     "iopub.status.idle": "2025-08-07T15:08:49.949288Z",
     "shell.execute_reply": "2025-08-07T15:08:49.948371Z"
    },
    "papermill": {
     "duration": 0.025654,
     "end_time": "2025-08-07T15:08:49.950834",
     "exception": false,
     "start_time": "2025-08-07T15:08:49.925180",
     "status": "completed"
    },
    "tags": []
   },
   "outputs": [
    {
     "name": "stdout",
     "output_type": "stream",
     "text": [
      "▶︎ Label distribution:\n"
     ]
    },
    {
     "data": {
      "text/html": [
       "<div>\n",
       "<style scoped>\n",
       "    .dataframe tbody tr th:only-of-type {\n",
       "        vertical-align: middle;\n",
       "    }\n",
       "\n",
       "    .dataframe tbody tr th {\n",
       "        vertical-align: top;\n",
       "    }\n",
       "\n",
       "    .dataframe thead th {\n",
       "        text-align: right;\n",
       "    }\n",
       "</style>\n",
       "<table border=\"1\" class=\"dataframe\">\n",
       "  <thead>\n",
       "    <tr style=\"text-align: right;\">\n",
       "      <th></th>\n",
       "      <th>text</th>\n",
       "      <th>count</th>\n",
       "      <th>pct</th>\n",
       "    </tr>\n",
       "  </thead>\n",
       "  <tbody>\n",
       "    <tr>\n",
       "      <th>0</th>\n",
       "      <td>\" All of our development since World War 2 has...</td>\n",
       "      <td>1</td>\n",
       "      <td>0.07</td>\n",
       "    </tr>\n",
       "    <tr>\n",
       "      <th>1</th>\n",
       "      <td>\" The Electoral College is a process, not a pl...</td>\n",
       "      <td>1</td>\n",
       "      <td>0.07</td>\n",
       "    </tr>\n",
       "    <tr>\n",
       "      <th>2</th>\n",
       "      <td>\" What's wrong with the Electoral College?\" To...</td>\n",
       "      <td>1</td>\n",
       "      <td>0.07</td>\n",
       "    </tr>\n",
       "    <tr>\n",
       "      <th>3</th>\n",
       "      <td>\"Abolish the electoral college!\" is a famous s...</td>\n",
       "      <td>1</td>\n",
       "      <td>0.07</td>\n",
       "    </tr>\n",
       "    <tr>\n",
       "      <th>4</th>\n",
       "      <td>\"All of our development since World War II has...</td>\n",
       "      <td>1</td>\n",
       "      <td>0.07</td>\n",
       "    </tr>\n",
       "    <tr>\n",
       "      <th>...</th>\n",
       "      <td>...</td>\n",
       "      <td>...</td>\n",
       "      <td>...</td>\n",
       "    </tr>\n",
       "    <tr>\n",
       "      <th>1454</th>\n",
       "      <td>out with the old and in with the new. \"The Ele...</td>\n",
       "      <td>1</td>\n",
       "      <td>0.07</td>\n",
       "    </tr>\n",
       "    <tr>\n",
       "      <th>1455</th>\n",
       "      <td>studies have shown that passenger cars are res...</td>\n",
       "      <td>1</td>\n",
       "      <td>0.07</td>\n",
       "    </tr>\n",
       "    <tr>\n",
       "      <th>1456</th>\n",
       "      <td>there are many thing in life people want and n...</td>\n",
       "      <td>1</td>\n",
       "      <td>0.07</td>\n",
       "    </tr>\n",
       "    <tr>\n",
       "      <th>1457</th>\n",
       "      <td>transportation has been a key part of many soc...</td>\n",
       "      <td>1</td>\n",
       "      <td>0.07</td>\n",
       "    </tr>\n",
       "    <tr>\n",
       "      <th>1458</th>\n",
       "      <td>when looking at the world from a birds eye vie...</td>\n",
       "      <td>1</td>\n",
       "      <td>0.07</td>\n",
       "    </tr>\n",
       "  </tbody>\n",
       "</table>\n",
       "<p>1459 rows × 3 columns</p>\n",
       "</div>"
      ],
      "text/plain": [
       "                                                   text  count   pct\n",
       "0     \" All of our development since World War 2 has...      1  0.07\n",
       "1     \" The Electoral College is a process, not a pl...      1  0.07\n",
       "2     \" What's wrong with the Electoral College?\" To...      1  0.07\n",
       "3     \"Abolish the electoral college!\" is a famous s...      1  0.07\n",
       "4     \"All of our development since World War II has...      1  0.07\n",
       "...                                                 ...    ...   ...\n",
       "1454  out with the old and in with the new. \"The Ele...      1  0.07\n",
       "1455  studies have shown that passenger cars are res...      1  0.07\n",
       "1456  there are many thing in life people want and n...      1  0.07\n",
       "1457  transportation has been a key part of many soc...      1  0.07\n",
       "1458  when looking at the world from a birds eye vie...      1  0.07\n",
       "\n",
       "[1459 rows x 3 columns]"
      ]
     },
     "metadata": {},
     "output_type": "display_data"
    }
   ],
   "source": [
    "# ------ LABEL DISTRIBUTION ON ALL DATA (for accuracy) -------- #\n",
    "label_counts = df[\"text\"].value_counts().sort_index().reset_index()\n",
    "label_counts.columns = [\"text\", \"count\"]\n",
    "label_counts[\"pct\"] = (100 * label_counts[\"count\"] / label_counts[\"count\"].sum()).round(2)\n",
    "print(\"▶︎ Label distribution:\")\n",
    "display(label_counts)"
   ]
  },
  {
   "cell_type": "code",
   "execution_count": 6,
   "id": "281f4e6f",
   "metadata": {
    "execution": {
     "iopub.execute_input": "2025-08-07T15:08:49.962132Z",
     "iopub.status.busy": "2025-08-07T15:08:49.961466Z",
     "iopub.status.idle": "2025-08-07T15:08:49.969488Z",
     "shell.execute_reply": "2025-08-07T15:08:49.968599Z"
    },
    "papermill": {
     "duration": 0.015614,
     "end_time": "2025-08-07T15:08:49.971300",
     "exception": false,
     "start_time": "2025-08-07T15:08:49.955686",
     "status": "completed"
    },
    "tags": []
   },
   "outputs": [
    {
     "name": "stdout",
     "output_type": "stream",
     "text": [
      "generated\n",
      "0    1375\n",
      "1      85\n",
      "Name: count, dtype: int64\n",
      "Human-written:   1375\n",
      "AI-generated:    85\n"
     ]
    }
   ],
   "source": [
    "# Simple count of 0s and 1s in the 'generated' column:\n",
    "print(df['generated'].value_counts())\n",
    "\n",
    "human_count = (df['generated'] == 0).sum()\n",
    "ai_count = (df['generated'] == 1).sum()\n",
    "print(f\"Human-written:   {human_count}\")\n",
    "print(f\"AI-generated:    {ai_count}\")"
   ]
  },
  {
   "cell_type": "code",
   "execution_count": 7,
   "id": "98c99558",
   "metadata": {
    "execution": {
     "iopub.execute_input": "2025-08-07T15:08:49.982894Z",
     "iopub.status.busy": "2025-08-07T15:08:49.982523Z",
     "iopub.status.idle": "2025-08-07T15:08:49.989047Z",
     "shell.execute_reply": "2025-08-07T15:08:49.988053Z"
    },
    "papermill": {
     "duration": 0.014318,
     "end_time": "2025-08-07T15:08:49.990802",
     "exception": false,
     "start_time": "2025-08-07T15:08:49.976484",
     "status": "completed"
    },
    "tags": []
   },
   "outputs": [
    {
     "name": "stdout",
     "output_type": "stream",
     "text": [
      "text         0\n",
      "generated    0\n",
      "dtype: int64\n"
     ]
    }
   ],
   "source": [
    "print(df.isnull().sum())\n"
   ]
  },
  {
   "cell_type": "markdown",
   "id": "2c4456e4",
   "metadata": {
    "papermill": {
     "duration": 0.004584,
     "end_time": "2025-08-07T15:08:50.001272",
     "exception": false,
     "start_time": "2025-08-07T15:08:49.996688",
     "status": "completed"
    },
    "tags": []
   },
   "source": [
    "# Fast world cloud"
   ]
  },
  {
   "cell_type": "code",
   "execution_count": 8,
   "id": "90bc51e0",
   "metadata": {
    "execution": {
     "iopub.execute_input": "2025-08-07T15:08:50.014036Z",
     "iopub.status.busy": "2025-08-07T15:08:50.013693Z",
     "iopub.status.idle": "2025-08-07T15:08:50.445646Z",
     "shell.execute_reply": "2025-08-07T15:08:50.444795Z"
    },
    "papermill": {
     "duration": 0.439894,
     "end_time": "2025-08-07T15:08:50.447107",
     "exception": false,
     "start_time": "2025-08-07T15:08:50.007213",
     "status": "completed"
    },
    "tags": []
   },
   "outputs": [
    {
     "name": "stdout",
     "output_type": "stream",
     "text": [
      "Most common words in Human texts (top 10):\n",
      "   electoral: 562\n",
      "      people: 549\n",
      "        vote: 511\n",
      "     college: 446\n",
      "         car: 391\n",
      "        cars: 323\n",
      "      states: 315\n",
      "   president: 284\n",
      "       votes: 232\n",
      "    electors: 213\n",
      "Most common words in AI texts (top 10):\n",
      "          ai: 69\n",
      "      energy: 62\n",
      "     ethical: 56\n",
      "  challenges: 46\n",
      "  technology: 43\n",
      "       world: 40\n",
      "   potential: 38\n",
      "      coffee: 37\n",
      "      making: 34\n",
      "      impact: 33\n"
     ]
    }
   ],
   "source": [
    "from sklearn.feature_extraction.text import CountVectorizer\n",
    "\n",
    "for label in [0, 1]:\n",
    "    texts = df[df['generated'] == label]['text']\n",
    "    n = min(100, len(texts))  # use up to 100 samples, or all if less\n",
    "    sample_texts = texts.sample(n, random_state=1) if n > 0 else []\n",
    "    if n == 0:\n",
    "        print(f\"No texts available for label {label}\")\n",
    "        continue\n",
    "\n",
    "    cv = CountVectorizer(stop_words='english', max_features=10)\n",
    "    cv.fit(sample_texts)\n",
    "    words = cv.get_feature_names_out()\n",
    "    freqs = cv.transform(sample_texts).sum(axis=0).A1\n",
    "    print(f\"Most common words in {'Human' if label==0 else 'AI'} texts (top 10):\")\n",
    "    for word, count in sorted(zip(words, freqs), key=lambda x: -x[1]):\n",
    "        print(f\"{word:>12s}: {count}\")\n"
   ]
  },
  {
   "cell_type": "markdown",
   "id": "6fa54fd9",
   "metadata": {
    "papermill": {
     "duration": 0.004711,
     "end_time": "2025-08-07T15:08:50.456807",
     "exception": false,
     "start_time": "2025-08-07T15:08:50.452096",
     "status": "completed"
    },
    "tags": []
   },
   "source": [
    "# classic ml models\n"
   ]
  },
  {
   "cell_type": "code",
   "execution_count": 9,
   "id": "3838fed6",
   "metadata": {
    "execution": {
     "iopub.execute_input": "2025-08-07T15:08:50.468229Z",
     "iopub.status.busy": "2025-08-07T15:08:50.467282Z",
     "iopub.status.idle": "2025-08-07T15:08:50.611077Z",
     "shell.execute_reply": "2025-08-07T15:08:50.610150Z"
    },
    "papermill": {
     "duration": 0.151223,
     "end_time": "2025-08-07T15:08:50.612782",
     "exception": false,
     "start_time": "2025-08-07T15:08:50.461559",
     "status": "completed"
    },
    "tags": []
   },
   "outputs": [],
   "source": [
    "from sklearn.model_selection import train_test_split\n",
    "\n",
    "# Start from the same sampled DataFrame as before:\n",
    "SAMPLE_SIZE = 3000\n",
    "df_sample = df.sample(n=min(SAMPLE_SIZE, len(df)), random_state=42)\n",
    "\n",
    "X = df_sample['text']\n",
    "y = df_sample['generated']\n",
    "\n",
    "# Split stratified, as before\n",
    "X_train, X_test, y_train, y_test = train_test_split(\n",
    "    X, y, test_size=0.2, stratify=y, random_state=42\n",
    ")\n",
    "\n",
    "# Combine train features/labels for resampling\n",
    "train_df = pd.DataFrame({'text': X_train, 'generated': y_train})\n",
    "\n",
    "# Separate majority and minority classes\n",
    "df_majority = train_df[train_df.generated == 0]\n",
    "df_minority = train_df[train_df.generated == 1]\n",
    "\n",
    "# Upsample minority class\n",
    "df_minority_upsampled = df_minority.sample(n=len(df_majority), replace=True, random_state=42)\n",
    "\n",
    "# Combine back to balanced training data\n",
    "df_upsampled = pd.concat([df_majority, df_minority_upsampled])\n",
    "# Shuffle the rows\n",
    "df_upsampled = df_upsampled.sample(frac=1, random_state=42).reset_index(drop=True)\n",
    "\n",
    "# Final features and labels\n",
    "X_train_bal = df_upsampled['text']\n",
    "y_train_bal = df_upsampled['generated']\n"
   ]
  },
  {
   "cell_type": "code",
   "execution_count": 10,
   "id": "db1b828a",
   "metadata": {
    "execution": {
     "iopub.execute_input": "2025-08-07T15:08:50.624418Z",
     "iopub.status.busy": "2025-08-07T15:08:50.623830Z",
     "iopub.status.idle": "2025-08-07T15:08:52.253358Z",
     "shell.execute_reply": "2025-08-07T15:08:52.252464Z"
    },
    "papermill": {
     "duration": 1.637114,
     "end_time": "2025-08-07T15:08:52.255058",
     "exception": false,
     "start_time": "2025-08-07T15:08:50.617944",
     "status": "completed"
    },
    "tags": []
   },
   "outputs": [],
   "source": [
    "from sklearn.feature_extraction.text import TfidfVectorizer\n",
    "\n",
    "tfidf = TfidfVectorizer(max_features=3000, ngram_range=(1,2), stop_words=\"english\")\n",
    "X_train_tfidf = tfidf.fit_transform(X_train_bal)\n",
    "X_test_tfidf = tfidf.transform(X_test)\n"
   ]
  },
  {
   "cell_type": "code",
   "execution_count": 11,
   "id": "14f5c611",
   "metadata": {
    "execution": {
     "iopub.execute_input": "2025-08-07T15:08:52.267538Z",
     "iopub.status.busy": "2025-08-07T15:08:52.266625Z",
     "iopub.status.idle": "2025-08-07T15:08:52.413843Z",
     "shell.execute_reply": "2025-08-07T15:08:52.412803Z"
    },
    "papermill": {
     "duration": 0.154805,
     "end_time": "2025-08-07T15:08:52.415409",
     "exception": false,
     "start_time": "2025-08-07T15:08:52.260604",
     "status": "completed"
    },
    "tags": []
   },
   "outputs": [
    {
     "name": "stdout",
     "output_type": "stream",
     "text": [
      "== SVM after Upsampling ==\n",
      "Accuracy: 0.9965753424657534\n",
      "F1-score:               precision    recall  f1-score   support\n",
      "\n",
      "           0      0.996     1.000     0.998       275\n",
      "           1      1.000     0.941     0.970        17\n",
      "\n",
      "    accuracy                          0.997       292\n",
      "   macro avg      0.998     0.971     0.984       292\n",
      "weighted avg      0.997     0.997     0.997       292\n",
      "\n",
      "Confusion Matrix: [[275   0]\n",
      " [  1  16]]\n"
     ]
    }
   ],
   "source": [
    "from sklearn.svm import LinearSVC\n",
    "from sklearn.metrics import classification_report, confusion_matrix, accuracy_score\n",
    "\n",
    "svm = LinearSVC()\n",
    "svm.fit(X_train_tfidf, y_train_bal)\n",
    "y_pred = svm.predict(X_test_tfidf)\n",
    "\n",
    "print(\"== SVM after Upsampling ==\")\n",
    "print(\"Accuracy:\", accuracy_score(y_test, y_pred))\n",
    "print(\"F1-score:\", classification_report(y_test, y_pred, digits=3))\n",
    "print(\"Confusion Matrix:\", confusion_matrix(y_test, y_pred))\n"
   ]
  },
  {
   "cell_type": "markdown",
   "id": "2f078c2d",
   "metadata": {
    "papermill": {
     "duration": 0.004996,
     "end_time": "2025-08-07T15:08:52.425524",
     "exception": false,
     "start_time": "2025-08-07T15:08:52.420528",
     "status": "completed"
    },
    "tags": []
   },
   "source": [
    "# Deep learning method in nlp"
   ]
  },
  {
   "cell_type": "code",
   "execution_count": 12,
   "id": "f3fe1cbc",
   "metadata": {
    "execution": {
     "iopub.execute_input": "2025-08-07T15:08:52.436989Z",
     "iopub.status.busy": "2025-08-07T15:08:52.436624Z",
     "iopub.status.idle": "2025-08-07T15:09:09.707487Z",
     "shell.execute_reply": "2025-08-07T15:09:09.706774Z"
    },
    "papermill": {
     "duration": 17.278609,
     "end_time": "2025-08-07T15:09:09.709126",
     "exception": false,
     "start_time": "2025-08-07T15:08:52.430517",
     "status": "completed"
    },
    "tags": []
   },
   "outputs": [
    {
     "name": "stderr",
     "output_type": "stream",
     "text": [
      "2025-08-07 15:08:54.349246: E external/local_xla/xla/stream_executor/cuda/cuda_fft.cc:477] Unable to register cuFFT factory: Attempting to register factory for plugin cuFFT when one has already been registered\n",
      "WARNING: All log messages before absl::InitializeLog() is called are written to STDERR\n",
      "E0000 00:00:1754579334.588704      13 cuda_dnn.cc:8310] Unable to register cuDNN factory: Attempting to register factory for plugin cuDNN when one has already been registered\n",
      "E0000 00:00:1754579334.653327      13 cuda_blas.cc:1418] Unable to register cuBLAS factory: Attempting to register factory for plugin cuBLAS when one has already been registered\n"
     ]
    }
   ],
   "source": [
    "from sklearn.model_selection import train_test_split\n",
    "from sklearn.metrics import classification_report, confusion_matrix\n",
    "\n",
    "import tensorflow as tf\n",
    "from tensorflow.keras.preprocessing.text import Tokenizer\n",
    "from tensorflow.keras.preprocessing.sequence import pad_sequences\n",
    "from tensorflow.keras.models import Sequential\n",
    "from tensorflow.keras.layers import Embedding, LSTM, Dropout, Dense"
   ]
  },
  {
   "cell_type": "code",
   "execution_count": 13,
   "id": "4cb0b255",
   "metadata": {
    "execution": {
     "iopub.execute_input": "2025-08-07T15:09:09.721053Z",
     "iopub.status.busy": "2025-08-07T15:09:09.720382Z",
     "iopub.status.idle": "2025-08-07T15:09:09.730688Z",
     "shell.execute_reply": "2025-08-07T15:09:09.729741Z"
    },
    "papermill": {
     "duration": 0.017924,
     "end_time": "2025-08-07T15:09:09.732300",
     "exception": false,
     "start_time": "2025-08-07T15:09:09.714376",
     "status": "completed"
    },
    "tags": []
   },
   "outputs": [],
   "source": [
    "\n",
    "X = df['text'].astype(str)\n",
    "y = df['generated'].astype(int)\n",
    "\n",
    "# test split data\n",
    "X_train, X_test, y_train, y_test = train_test_split(\n",
    "    X, y, test_size=0.2, stratify=y, random_state=42\n",
    ")\n"
   ]
  },
  {
   "cell_type": "code",
   "execution_count": 14,
   "id": "38f0dfde",
   "metadata": {
    "execution": {
     "iopub.execute_input": "2025-08-07T15:09:09.743745Z",
     "iopub.status.busy": "2025-08-07T15:09:09.743381Z",
     "iopub.status.idle": "2025-08-07T15:09:10.070960Z",
     "shell.execute_reply": "2025-08-07T15:09:10.070090Z"
    },
    "papermill": {
     "duration": 0.335335,
     "end_time": "2025-08-07T15:09:10.072654",
     "exception": false,
     "start_time": "2025-08-07T15:09:09.737319",
     "status": "completed"
    },
    "tags": []
   },
   "outputs": [],
   "source": [
    "# 5. Tokenizer , Padding\n",
    "VOCAB_SIZE = 10000\n",
    "MAXLEN = 400\n",
    "\n",
    "tokenizer = Tokenizer(num_words=VOCAB_SIZE, oov_token='<OOV>')\n",
    "tokenizer.fit_on_texts(X_train)\n"
   ]
  },
  {
   "cell_type": "code",
   "execution_count": 15,
   "id": "d7294c27",
   "metadata": {
    "execution": {
     "iopub.execute_input": "2025-08-07T15:09:10.084167Z",
     "iopub.status.busy": "2025-08-07T15:09:10.083851Z",
     "iopub.status.idle": "2025-08-07T15:09:10.356873Z",
     "shell.execute_reply": "2025-08-07T15:09:10.355807Z"
    },
    "papermill": {
     "duration": 0.280863,
     "end_time": "2025-08-07T15:09:10.358659",
     "exception": false,
     "start_time": "2025-08-07T15:09:10.077796",
     "status": "completed"
    },
    "tags": []
   },
   "outputs": [],
   "source": [
    "# text to numbers\n",
    "X_train_seq = tokenizer.texts_to_sequences(X_train)\n",
    "X_test_seq = tokenizer.texts_to_sequences(X_test)\n",
    "\n",
    "# padding\n",
    "X_train_pad = pad_sequences(X_train_seq, maxlen=MAXLEN, padding='post', truncating='post')\n",
    "X_test_pad = pad_sequences(X_test_seq, maxlen=MAXLEN, padding='post', truncating='post')"
   ]
  },
  {
   "cell_type": "code",
   "execution_count": 16,
   "id": "a2bc43ba",
   "metadata": {
    "execution": {
     "iopub.execute_input": "2025-08-07T15:09:10.370279Z",
     "iopub.status.busy": "2025-08-07T15:09:10.369935Z",
     "iopub.status.idle": "2025-08-07T15:09:10.461940Z",
     "shell.execute_reply": "2025-08-07T15:09:10.460994Z"
    },
    "papermill": {
     "duration": 0.099535,
     "end_time": "2025-08-07T15:09:10.463477",
     "exception": false,
     "start_time": "2025-08-07T15:09:10.363942",
     "status": "completed"
    },
    "tags": []
   },
   "outputs": [
    {
     "name": "stderr",
     "output_type": "stream",
     "text": [
      "/usr/local/lib/python3.11/dist-packages/keras/src/layers/core/embedding.py:90: UserWarning: Argument `input_length` is deprecated. Just remove it.\n",
      "  warnings.warn(\n",
      "2025-08-07 15:09:10.380444: E external/local_xla/xla/stream_executor/cuda/cuda_driver.cc:152] failed call to cuInit: INTERNAL: CUDA error: Failed call to cuInit: UNKNOWN ERROR (303)\n"
     ]
    },
    {
     "data": {
      "text/html": [
       "<pre style=\"white-space:pre;overflow-x:auto;line-height:normal;font-family:Menlo,'DejaVu Sans Mono',consolas,'Courier New',monospace\"><span style=\"font-weight: bold\">Model: \"sequential\"</span>\n",
       "</pre>\n"
      ],
      "text/plain": [
       "\u001b[1mModel: \"sequential\"\u001b[0m\n"
      ]
     },
     "metadata": {},
     "output_type": "display_data"
    },
    {
     "data": {
      "text/html": [
       "<pre style=\"white-space:pre;overflow-x:auto;line-height:normal;font-family:Menlo,'DejaVu Sans Mono',consolas,'Courier New',monospace\">┏━━━━━━━━━━━━━━━━━━━━━━━━━━━━━━━━━┳━━━━━━━━━━━━━━━━━━━━━━━━┳━━━━━━━━━━━━━━━┓\n",
       "┃<span style=\"font-weight: bold\"> Layer (type)                    </span>┃<span style=\"font-weight: bold\"> Output Shape           </span>┃<span style=\"font-weight: bold\">       Param # </span>┃\n",
       "┡━━━━━━━━━━━━━━━━━━━━━━━━━━━━━━━━━╇━━━━━━━━━━━━━━━━━━━━━━━━╇━━━━━━━━━━━━━━━┩\n",
       "│ embedding (<span style=\"color: #0087ff; text-decoration-color: #0087ff\">Embedding</span>)           │ ?                      │   <span style=\"color: #00af00; text-decoration-color: #00af00\">0</span> (unbuilt) │\n",
       "├─────────────────────────────────┼────────────────────────┼───────────────┤\n",
       "│ lstm (<span style=\"color: #0087ff; text-decoration-color: #0087ff\">LSTM</span>)                     │ ?                      │   <span style=\"color: #00af00; text-decoration-color: #00af00\">0</span> (unbuilt) │\n",
       "├─────────────────────────────────┼────────────────────────┼───────────────┤\n",
       "│ dropout (<span style=\"color: #0087ff; text-decoration-color: #0087ff\">Dropout</span>)               │ ?                      │             <span style=\"color: #00af00; text-decoration-color: #00af00\">0</span> │\n",
       "├─────────────────────────────────┼────────────────────────┼───────────────┤\n",
       "│ dense (<span style=\"color: #0087ff; text-decoration-color: #0087ff\">Dense</span>)                   │ ?                      │   <span style=\"color: #00af00; text-decoration-color: #00af00\">0</span> (unbuilt) │\n",
       "└─────────────────────────────────┴────────────────────────┴───────────────┘\n",
       "</pre>\n"
      ],
      "text/plain": [
       "┏━━━━━━━━━━━━━━━━━━━━━━━━━━━━━━━━━┳━━━━━━━━━━━━━━━━━━━━━━━━┳━━━━━━━━━━━━━━━┓\n",
       "┃\u001b[1m \u001b[0m\u001b[1mLayer (type)                   \u001b[0m\u001b[1m \u001b[0m┃\u001b[1m \u001b[0m\u001b[1mOutput Shape          \u001b[0m\u001b[1m \u001b[0m┃\u001b[1m \u001b[0m\u001b[1m      Param #\u001b[0m\u001b[1m \u001b[0m┃\n",
       "┡━━━━━━━━━━━━━━━━━━━━━━━━━━━━━━━━━╇━━━━━━━━━━━━━━━━━━━━━━━━╇━━━━━━━━━━━━━━━┩\n",
       "│ embedding (\u001b[38;5;33mEmbedding\u001b[0m)           │ ?                      │   \u001b[38;5;34m0\u001b[0m (unbuilt) │\n",
       "├─────────────────────────────────┼────────────────────────┼───────────────┤\n",
       "│ lstm (\u001b[38;5;33mLSTM\u001b[0m)                     │ ?                      │   \u001b[38;5;34m0\u001b[0m (unbuilt) │\n",
       "├─────────────────────────────────┼────────────────────────┼───────────────┤\n",
       "│ dropout (\u001b[38;5;33mDropout\u001b[0m)               │ ?                      │             \u001b[38;5;34m0\u001b[0m │\n",
       "├─────────────────────────────────┼────────────────────────┼───────────────┤\n",
       "│ dense (\u001b[38;5;33mDense\u001b[0m)                   │ ?                      │   \u001b[38;5;34m0\u001b[0m (unbuilt) │\n",
       "└─────────────────────────────────┴────────────────────────┴───────────────┘\n"
      ]
     },
     "metadata": {},
     "output_type": "display_data"
    },
    {
     "data": {
      "text/html": [
       "<pre style=\"white-space:pre;overflow-x:auto;line-height:normal;font-family:Menlo,'DejaVu Sans Mono',consolas,'Courier New',monospace\"><span style=\"font-weight: bold\"> Total params: </span><span style=\"color: #00af00; text-decoration-color: #00af00\">0</span> (0.00 B)\n",
       "</pre>\n"
      ],
      "text/plain": [
       "\u001b[1m Total params: \u001b[0m\u001b[38;5;34m0\u001b[0m (0.00 B)\n"
      ]
     },
     "metadata": {},
     "output_type": "display_data"
    },
    {
     "data": {
      "text/html": [
       "<pre style=\"white-space:pre;overflow-x:auto;line-height:normal;font-family:Menlo,'DejaVu Sans Mono',consolas,'Courier New',monospace\"><span style=\"font-weight: bold\"> Trainable params: </span><span style=\"color: #00af00; text-decoration-color: #00af00\">0</span> (0.00 B)\n",
       "</pre>\n"
      ],
      "text/plain": [
       "\u001b[1m Trainable params: \u001b[0m\u001b[38;5;34m0\u001b[0m (0.00 B)\n"
      ]
     },
     "metadata": {},
     "output_type": "display_data"
    },
    {
     "data": {
      "text/html": [
       "<pre style=\"white-space:pre;overflow-x:auto;line-height:normal;font-family:Menlo,'DejaVu Sans Mono',consolas,'Courier New',monospace\"><span style=\"font-weight: bold\"> Non-trainable params: </span><span style=\"color: #00af00; text-decoration-color: #00af00\">0</span> (0.00 B)\n",
       "</pre>\n"
      ],
      "text/plain": [
       "\u001b[1m Non-trainable params: \u001b[0m\u001b[38;5;34m0\u001b[0m (0.00 B)\n"
      ]
     },
     "metadata": {},
     "output_type": "display_data"
    }
   ],
   "source": [
    "# lstm \n",
    "model = Sequential([\n",
    "    Embedding(VOCAB_SIZE, 64, input_length=MAXLEN),\n",
    "    LSTM(64),\n",
    "    Dropout(0.2),\n",
    "    Dense(1, activation='sigmoid')\n",
    "])\n",
    "\n",
    "model.compile(\n",
    "    loss='binary_crossentropy',\n",
    "    optimizer='adam',\n",
    "    metrics=['accuracy']\n",
    ")\n",
    "\n",
    "model.summary()"
   ]
  },
  {
   "cell_type": "code",
   "execution_count": 17,
   "id": "f4863da4",
   "metadata": {
    "execution": {
     "iopub.execute_input": "2025-08-07T15:09:10.476459Z",
     "iopub.status.busy": "2025-08-07T15:09:10.476129Z",
     "iopub.status.idle": "2025-08-07T15:12:12.394954Z",
     "shell.execute_reply": "2025-08-07T15:12:12.393971Z"
    },
    "papermill": {
     "duration": 181.927566,
     "end_time": "2025-08-07T15:12:12.396911",
     "exception": false,
     "start_time": "2025-08-07T15:09:10.469345",
     "status": "completed"
    },
    "tags": []
   },
   "outputs": [
    {
     "name": "stdout",
     "output_type": "stream",
     "text": [
      "Epoch 1/30\n",
      "\u001b[1m37/37\u001b[0m \u001b[32m━━━━━━━━━━━━━━━━━━━━\u001b[0m\u001b[37m\u001b[0m \u001b[1m11s\u001b[0m 169ms/step - accuracy: 0.8629 - loss: 0.5162 - val_accuracy: 0.9795 - val_loss: 0.0694\n",
      "Epoch 2/30\n",
      "\u001b[1m37/37\u001b[0m \u001b[32m━━━━━━━━━━━━━━━━━━━━\u001b[0m\u001b[37m\u001b[0m \u001b[1m6s\u001b[0m 157ms/step - accuracy: 0.9516 - loss: 0.1039 - val_accuracy: 0.9315 - val_loss: 0.0991\n",
      "Epoch 3/30\n",
      "\u001b[1m37/37\u001b[0m \u001b[32m━━━━━━━━━━━━━━━━━━━━\u001b[0m\u001b[37m\u001b[0m \u001b[1m6s\u001b[0m 167ms/step - accuracy: 0.9407 - loss: 0.1490 - val_accuracy: 0.9692 - val_loss: 0.1052\n",
      "Epoch 4/30\n",
      "\u001b[1m37/37\u001b[0m \u001b[32m━━━━━━━━━━━━━━━━━━━━\u001b[0m\u001b[37m\u001b[0m \u001b[1m6s\u001b[0m 154ms/step - accuracy: 0.9604 - loss: 0.0983 - val_accuracy: 0.9692 - val_loss: 0.0705\n",
      "Epoch 5/30\n",
      "\u001b[1m37/37\u001b[0m \u001b[32m━━━━━━━━━━━━━━━━━━━━\u001b[0m\u001b[37m\u001b[0m \u001b[1m6s\u001b[0m 155ms/step - accuracy: 0.9759 - loss: 0.0614 - val_accuracy: 0.9589 - val_loss: 0.0756\n",
      "Epoch 6/30\n",
      "\u001b[1m37/37\u001b[0m \u001b[32m━━━━━━━━━━━━━━━━━━━━\u001b[0m\u001b[37m\u001b[0m \u001b[1m6s\u001b[0m 155ms/step - accuracy: 0.9704 - loss: 0.0658 - val_accuracy: 0.9760 - val_loss: 0.0524\n",
      "Epoch 7/30\n",
      "\u001b[1m37/37\u001b[0m \u001b[32m━━━━━━━━━━━━━━━━━━━━\u001b[0m\u001b[37m\u001b[0m \u001b[1m6s\u001b[0m 155ms/step - accuracy: 0.9762 - loss: 0.0549 - val_accuracy: 0.9863 - val_loss: 0.0411\n",
      "Epoch 8/30\n",
      "\u001b[1m37/37\u001b[0m \u001b[32m━━━━━━━━━━━━━━━━━━━━\u001b[0m\u001b[37m\u001b[0m \u001b[1m6s\u001b[0m 161ms/step - accuracy: 0.9890 - loss: 0.0365 - val_accuracy: 0.9760 - val_loss: 0.0622\n",
      "Epoch 9/30\n",
      "\u001b[1m37/37\u001b[0m \u001b[32m━━━━━━━━━━━━━━━━━━━━\u001b[0m\u001b[37m\u001b[0m \u001b[1m6s\u001b[0m 162ms/step - accuracy: 0.9842 - loss: 0.0465 - val_accuracy: 0.9897 - val_loss: 0.0313\n",
      "Epoch 10/30\n",
      "\u001b[1m37/37\u001b[0m \u001b[32m━━━━━━━━━━━━━━━━━━━━\u001b[0m\u001b[37m\u001b[0m \u001b[1m6s\u001b[0m 157ms/step - accuracy: 0.9884 - loss: 0.0334 - val_accuracy: 0.9932 - val_loss: 0.0210\n",
      "Epoch 11/30\n",
      "\u001b[1m37/37\u001b[0m \u001b[32m━━━━━━━━━━━━━━━━━━━━\u001b[0m\u001b[37m\u001b[0m \u001b[1m6s\u001b[0m 159ms/step - accuracy: 0.9985 - loss: 0.0143 - val_accuracy: 0.9932 - val_loss: 0.0194\n",
      "Epoch 12/30\n",
      "\u001b[1m37/37\u001b[0m \u001b[32m━━━━━━━━━━━━━━━━━━━━\u001b[0m\u001b[37m\u001b[0m \u001b[1m6s\u001b[0m 160ms/step - accuracy: 0.9977 - loss: 0.0122 - val_accuracy: 0.9795 - val_loss: 0.0380\n",
      "Epoch 13/30\n",
      "\u001b[1m37/37\u001b[0m \u001b[32m━━━━━━━━━━━━━━━━━━━━\u001b[0m\u001b[37m\u001b[0m \u001b[1m6s\u001b[0m 162ms/step - accuracy: 0.9948 - loss: 0.0197 - val_accuracy: 1.0000 - val_loss: 0.0092\n",
      "Epoch 14/30\n",
      "\u001b[1m37/37\u001b[0m \u001b[32m━━━━━━━━━━━━━━━━━━━━\u001b[0m\u001b[37m\u001b[0m \u001b[1m6s\u001b[0m 170ms/step - accuracy: 0.9964 - loss: 0.0108 - val_accuracy: 0.9932 - val_loss: 0.0137\n",
      "Epoch 15/30\n",
      "\u001b[1m37/37\u001b[0m \u001b[32m━━━━━━━━━━━━━━━━━━━━\u001b[0m\u001b[37m\u001b[0m \u001b[1m6s\u001b[0m 161ms/step - accuracy: 1.0000 - loss: 0.0052 - val_accuracy: 0.9932 - val_loss: 0.0137\n",
      "Epoch 16/30\n",
      "\u001b[1m37/37\u001b[0m \u001b[32m━━━━━━━━━━━━━━━━━━━━\u001b[0m\u001b[37m\u001b[0m \u001b[1m6s\u001b[0m 160ms/step - accuracy: 1.0000 - loss: 0.0023 - val_accuracy: 0.9932 - val_loss: 0.0236\n",
      "Epoch 17/30\n",
      "\u001b[1m37/37\u001b[0m \u001b[32m━━━━━━━━━━━━━━━━━━━━\u001b[0m\u001b[37m\u001b[0m \u001b[1m6s\u001b[0m 157ms/step - accuracy: 1.0000 - loss: 0.0020 - val_accuracy: 0.9932 - val_loss: 0.0255\n",
      "Epoch 18/30\n",
      "\u001b[1m37/37\u001b[0m \u001b[32m━━━━━━━━━━━━━━━━━━━━\u001b[0m\u001b[37m\u001b[0m \u001b[1m6s\u001b[0m 159ms/step - accuracy: 1.0000 - loss: 0.0012 - val_accuracy: 0.9932 - val_loss: 0.0258\n",
      "Epoch 19/30\n",
      "\u001b[1m37/37\u001b[0m \u001b[32m━━━━━━━━━━━━━━━━━━━━\u001b[0m\u001b[37m\u001b[0m \u001b[1m6s\u001b[0m 165ms/step - accuracy: 1.0000 - loss: 0.0012 - val_accuracy: 0.9932 - val_loss: 0.0266\n",
      "Epoch 20/30\n",
      "\u001b[1m37/37\u001b[0m \u001b[32m━━━━━━━━━━━━━━━━━━━━\u001b[0m\u001b[37m\u001b[0m \u001b[1m6s\u001b[0m 156ms/step - accuracy: 1.0000 - loss: 9.1031e-04 - val_accuracy: 0.9932 - val_loss: 0.0274\n",
      "Epoch 21/30\n",
      "\u001b[1m37/37\u001b[0m \u001b[32m━━━━━━━━━━━━━━━━━━━━\u001b[0m\u001b[37m\u001b[0m \u001b[1m6s\u001b[0m 157ms/step - accuracy: 1.0000 - loss: 9.5952e-04 - val_accuracy: 0.9932 - val_loss: 0.0274\n",
      "Epoch 22/30\n",
      "\u001b[1m37/37\u001b[0m \u001b[32m━━━━━━━━━━━━━━━━━━━━\u001b[0m\u001b[37m\u001b[0m \u001b[1m6s\u001b[0m 158ms/step - accuracy: 1.0000 - loss: 9.0470e-04 - val_accuracy: 0.9932 - val_loss: 0.0285\n",
      "Epoch 23/30\n",
      "\u001b[1m37/37\u001b[0m \u001b[32m━━━━━━━━━━━━━━━━━━━━\u001b[0m\u001b[37m\u001b[0m \u001b[1m6s\u001b[0m 156ms/step - accuracy: 1.0000 - loss: 7.5977e-04 - val_accuracy: 0.9932 - val_loss: 0.0301\n",
      "Epoch 24/30\n",
      "\u001b[1m37/37\u001b[0m \u001b[32m━━━━━━━━━━━━━━━━━━━━\u001b[0m\u001b[37m\u001b[0m \u001b[1m6s\u001b[0m 156ms/step - accuracy: 1.0000 - loss: 6.3496e-04 - val_accuracy: 0.9932 - val_loss: 0.0310\n",
      "Epoch 25/30\n",
      "\u001b[1m37/37\u001b[0m \u001b[32m━━━━━━━━━━━━━━━━━━━━\u001b[0m\u001b[37m\u001b[0m \u001b[1m6s\u001b[0m 167ms/step - accuracy: 1.0000 - loss: 5.2885e-04 - val_accuracy: 0.9932 - val_loss: 0.0309\n",
      "Epoch 26/30\n",
      "\u001b[1m37/37\u001b[0m \u001b[32m━━━━━━━━━━━━━━━━━━━━\u001b[0m\u001b[37m\u001b[0m \u001b[1m6s\u001b[0m 158ms/step - accuracy: 1.0000 - loss: 5.3986e-04 - val_accuracy: 0.9932 - val_loss: 0.0307\n",
      "Epoch 27/30\n",
      "\u001b[1m37/37\u001b[0m \u001b[32m━━━━━━━━━━━━━━━━━━━━\u001b[0m\u001b[37m\u001b[0m \u001b[1m6s\u001b[0m 158ms/step - accuracy: 1.0000 - loss: 6.2463e-04 - val_accuracy: 0.9932 - val_loss: 0.0318\n",
      "Epoch 28/30\n",
      "\u001b[1m37/37\u001b[0m \u001b[32m━━━━━━━━━━━━━━━━━━━━\u001b[0m\u001b[37m\u001b[0m \u001b[1m6s\u001b[0m 155ms/step - accuracy: 1.0000 - loss: 4.9445e-04 - val_accuracy: 0.9932 - val_loss: 0.0320\n",
      "Epoch 29/30\n",
      "\u001b[1m37/37\u001b[0m \u001b[32m━━━━━━━━━━━━━━━━━━━━\u001b[0m\u001b[37m\u001b[0m \u001b[1m6s\u001b[0m 157ms/step - accuracy: 1.0000 - loss: 4.4266e-04 - val_accuracy: 0.9932 - val_loss: 0.0327\n",
      "Epoch 30/30\n",
      "\u001b[1m37/37\u001b[0m \u001b[32m━━━━━━━━━━━━━━━━━━━━\u001b[0m\u001b[37m\u001b[0m \u001b[1m6s\u001b[0m 166ms/step - accuracy: 1.0000 - loss: 4.0378e-04 - val_accuracy: 0.9932 - val_loss: 0.0329\n"
     ]
    }
   ],
   "source": [
    "# 7. آموزش مدل\n",
    "history = model.fit(\n",
    "    X_train_pad, y_train,\n",
    "    validation_data=(X_test_pad, y_test),\n",
    "    epochs=30,\n",
    "    batch_size=32\n",
    ")"
   ]
  },
  {
   "cell_type": "code",
   "execution_count": 18,
   "id": "c2ea33b8",
   "metadata": {
    "execution": {
     "iopub.execute_input": "2025-08-07T15:12:12.535163Z",
     "iopub.status.busy": "2025-08-07T15:12:12.534840Z",
     "iopub.status.idle": "2025-08-07T15:12:13.994751Z",
     "shell.execute_reply": "2025-08-07T15:12:13.993656Z"
    },
    "papermill": {
     "duration": 1.530546,
     "end_time": "2025-08-07T15:12:13.996322",
     "exception": false,
     "start_time": "2025-08-07T15:12:12.465776",
     "status": "completed"
    },
    "tags": []
   },
   "outputs": [
    {
     "name": "stdout",
     "output_type": "stream",
     "text": [
      "\u001b[1m10/10\u001b[0m \u001b[32m━━━━━━━━━━━━━━━━━━━━\u001b[0m\u001b[37m\u001b[0m \u001b[1m1s\u001b[0m 81ms/step\n",
      "Confusion Matrix: [[275   0]\n",
      " [  2  15]]\n",
      "Classification Report:               precision    recall  f1-score   support\n",
      "\n",
      "           0      0.993     1.000     0.996       275\n",
      "           1      1.000     0.882     0.938        17\n",
      "\n",
      "    accuracy                          0.993       292\n",
      "   macro avg      0.996     0.941     0.967       292\n",
      "weighted avg      0.993     0.993     0.993       292\n",
      "\n"
     ]
    },
    {
     "data": {
      "image/png": "[encoded data removed]",
      "text/plain": [
       "<Figure size 640x480 with 1 Axes>"
      ]
     },
     "metadata": {},
     "output_type": "display_data"
    }
   ],
   "source": [
    "y_pred_prob = model.predict(X_test_pad)\n",
    "y_pred = (y_pred_prob > 0.5).astype(int).flatten()\n",
    "\n",
    "print(\"Confusion Matrix:\", confusion_matrix(y_test, y_pred))\n",
    "print(\"Classification Report:\", classification_report(y_test, y_pred, digits=3))\n",
    "\n",
    "# 9. رسم نمودار آموزش\n",
    "import matplotlib.pyplot as plt\n",
    "\n",
    "plt.plot(history.history['accuracy'], label='Train')\n",
    "plt.plot(history.history['val_accuracy'], label='Validation')\n",
    "plt.title('Accuracy per Epoch')\n",
    "plt.xlabel('Epoch')\n",
    "plt.ylabel('Accuracy')\n",
    "plt.legend()\n",
    "plt.show()"
   ]
  }
 ],
 "metadata": {
  "kaggle": {
   "accelerator": "none",
   "dataSources": [
    {
     "datasetId": 7792257,
     "sourceId": 12359482,
     "sourceType": "datasetVersion"
    }
   ],
   "dockerImageVersionId": 31089,
   "isGpuEnabled": false,
   "isInternetEnabled": true,
   "language": "python",
   "sourceType": "notebook"
  },
  "kernelspec": {
   "display_name": "Python 3",
   "language": "python",
   "name": "python3"
  },
  "language_info": {
   "codemirror_mode": {
    "name": "ipython",
    "version": 3
   },
   "file_extension": ".py",
   "mimetype": "text/x-python",
   "name": "python",
   "nbconvert_exporter": "python",
   "pygments_lexer": "ipython3",
   "version": "3.11.13"
  },
  "papermill": {
   "default_parameters": {},
   "duration": 216.316531,
   "end_time": "2025-08-07T15:12:17.137021",
   "environment_variables": {},
   "exception": null,
   "input_path": "__notebook__.ipynb",
   "output_path": "__notebook__.ipynb",
   "parameters": {},
   "start_time": "2025-08-07T15:08:40.820490",
   "version": "2.6.0"
  }
 },
 "nbformat": 4,
 "nbformat_minor": 5
}
